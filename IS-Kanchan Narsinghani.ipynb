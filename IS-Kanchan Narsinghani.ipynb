{
 "cells": [
  {
   "cell_type": "markdown",
   "id": "68646876",
   "metadata": {},
   "source": [
    "### Importing Libraries"
   ]
  },
  {
   "cell_type": "code",
   "execution_count": 1,
   "id": "ef4dbf30",
   "metadata": {},
   "outputs": [],
   "source": [
    "\n",
    "from statsmodels.formula.api import ols      # For n-way ANOVA\n",
    "from statsmodels.stats.anova import _get_covariance,anova_lm # For n-way ANOVA\n",
    "%matplotlib inline\n",
    "\n",
    "import math\n",
    "\n",
    "from scipy.stats import   ttest_1samp\n",
    "import pandas as pd #library used for data manipulation and analysis\n",
    "import numpy as np # library used for working with arrays.\n",
    "import matplotlib.pyplot as plt # library for plots and visualisations\n",
    "import seaborn as sns # library for visualisations\n",
    "%matplotlib inline \n",
    "\n",
    "from scipy import stats# this library contains a large number of probability distributions as well as a growing library of statistical functions.\n",
    "from scipy.stats import norm"
   ]
  },
  {
   "cell_type": "markdown",
   "id": "7f2a9469",
   "metadata": {},
   "source": [
    "### Problem 1"
   ]
  },
  {
   "attachments": {
    "image.png": {
     "image/png": "[encoded data removed]"
    }
   },
   "cell_type": "markdown",
   "id": "affd71c8",
   "metadata": {},
   "source": [
    "![image.png](attachment:image.png)"
   ]
  },
  {
   "cell_type": "markdown",
   "id": "827b9f92",
   "metadata": {},
   "source": [
    "#### 1.1 What is the probability that a randomly chosen player would suffer an injury?"
   ]
  },
  {
   "cell_type": "code",
   "execution_count": 2,
   "id": "b0e70ca6",
   "metadata": {},
   "outputs": [
    {
     "name": "stdout",
     "output_type": "stream",
     "text": [
      "Probability of players injured. is 61.7%\n"
     ]
    }
   ],
   "source": [
    "Total_Injured=145\n",
    "Total_players=235\n",
    "Prob_injured = round(Total_Injured/Total_players,4)*100\n",
    "print('Probability of players injured. is %1.1f' % Prob_injured +'%')"
   ]
  },
  {
   "cell_type": "markdown",
   "id": "b5632a85",
   "metadata": {},
   "source": [
    "#### 1.2 What is the probability that a player is a forward or a winger?"
   ]
  },
  {
   "cell_type": "code",
   "execution_count": 3,
   "id": "2553e2a8",
   "metadata": {},
   "outputs": [
    {
     "name": "stdout",
     "output_type": "stream",
     "text": [
      "Probability of player being forward is 40.0%\n",
      "Probability of player being  winger is 12.3%\n",
      "Probability of player being forward or a winger is 52.3%\n"
     ]
    }
   ],
   "source": [
    "Forward = 94\n",
    "Winger = 29\n",
    "Total_players=235\n",
    "prob_fwd = round(Forward/Total_players,4)*100\n",
    "print('Probability of player being forward is %1.1f' % prob_fwd +'%')\n",
    "prob_wng = round(Winger/Total_players,4)*100\n",
    "print('Probability of player being  winger is %1.1f' % prob_wng +'%')\n",
    "total = prob_fwd + prob_wng\n",
    "print('Probability of player being forward or a winger is %1.1f' % total +'%')"
   ]
  },
  {
   "cell_type": "markdown",
   "id": "47f348e7",
   "metadata": {},
   "source": [
    "#### 1.3 What is the probability that a randomly chosen player plays in a striker position and has a foot injury?"
   ]
  },
  {
   "cell_type": "code",
   "execution_count": 4,
   "id": "cc896955",
   "metadata": {},
   "outputs": [
    {
     "name": "stdout",
     "output_type": "stream",
     "text": [
      "Probability of striker players injured. is 19.1%\n"
     ]
    }
   ],
   "source": [
    "injured_striker = 45\n",
    "Total_players=235\n",
    "prob_strk_inj = round(injured_striker/Total_players,4)*100\n",
    "print('Probability of striker players injured. is %1.1f' % prob_strk_inj +'%')"
   ]
  },
  {
   "cell_type": "markdown",
   "id": "d4845ac2",
   "metadata": {},
   "source": [
    "#### 1.4 What is the probability that a randomly chosen injured player is a striker?"
   ]
  },
  {
   "cell_type": "code",
   "execution_count": 5,
   "id": "a58bc0e2",
   "metadata": {
    "scrolled": true
   },
   "outputs": [
    {
     "name": "stdout",
     "output_type": "stream",
     "text": [
      "Probability of striker players injured. is 31.0%\n"
     ]
    }
   ],
   "source": [
    "\n",
    "injured_player = 145\n",
    "injured_striker = 45\n",
    "prob_strk_inj = round(injured_striker/injured_player,4)*100\n",
    "print('Probability of striker players injured. is %1.1f' % prob_strk_inj +'%')"
   ]
  },
  {
   "cell_type": "code",
   "execution_count": null,
   "id": "5e79eebe",
   "metadata": {},
   "outputs": [],
   "source": []
  },
  {
   "cell_type": "markdown",
   "id": "a3fab8dc",
   "metadata": {},
   "source": [
    "### Problem 2\n"
   ]
  },
  {
   "cell_type": "markdown",
   "id": "03ad0330",
   "metadata": {},
   "source": [
    "#### The breaking strength of gunny bags used for packaging cement is normally distributed with a mean of 5 kg per sq. centimeter and a standard deviation of 1.5 kg per sq. centimeter. The quality team of the cement company wants to know the following about the packaging material to better understand wastage or pilferage within the supply chain"
   ]
  },
  {
   "cell_type": "markdown",
   "id": "95e0a5fe",
   "metadata": {
    "id": "f5_ECLi6YZA2"
   },
   "source": [
    "### Let's write the null and alternate hypotheses"
   ]
  },
  {
   "cell_type": "markdown",
   "id": "b16cb1c8",
   "metadata": {
    "id": "UjzLRZUjSLig"
   },
   "source": [
    "Let $\\mu$ be the mean breaking strength of gunny bags .\n",
    "\n",
    "The manager will test the null hypothesis\n",
    "\n",
    ">$H_0: \\mu = 5$\n",
    "\n",
    "against the alternate hypothesis\n",
    "\n",
    "> $H_a: \\mu > 5$"
   ]
  },
  {
   "cell_type": "markdown",
   "id": "d812b9b7",
   "metadata": {
    "id": "Za3CtsidYe2a"
   },
   "source": [
    "### Are the assumptions of Z-test satisfied?"
   ]
  },
  {
   "cell_type": "markdown",
   "id": "3b6d2eca",
   "metadata": {
    "id": "uZEqFhp8V99Y"
   },
   "source": [
    "*   Samples are drawn from a normal distribution - Since the sample size is 45(which is > 30), Central Limit Theorem states that the distribution of sample means will be normal. If the sample size was less than 30, we would have been able to apply z test on if we knew that the population distribution was normal.  \n",
    "*   Observations are from a simple random sample - we are informed that the manager collected a simple random sample\n",
    "*   Standard deviation is known - Yes\n",
    "\n",
    "\n",
    "Voila! We can use Z-test for this problem."
   ]
  },
  {
   "cell_type": "markdown",
   "id": "da29118d",
   "metadata": {},
   "source": [
    "#### 2.1 What proportion of the gunny bags have a breaking strength of less than 3.17 kg per sq cm?\n",
    "\n"
   ]
  },
  {
   "cell_type": "code",
   "execution_count": 6,
   "id": "d4178fb3",
   "metadata": {},
   "outputs": [
    {
     "data": {
      "text/plain": [
       "-8.18400879764923"
      ]
     },
     "execution_count": 6,
     "metadata": {},
     "output_type": "execute_result"
    }
   ],
   "source": [
    "# set the values of population mean and population standard deviation to 5 and 1.5 respectively\n",
    "mu, sigma = 5, 1.5\n",
    "\n",
    "# set the value sample mean to 3.17\n",
    "x_bar = 3.17\n",
    "\n",
    "# calculate the test statistic\n",
    "test_stat = (x_bar - mu) / (sigma/np.sqrt(45))\n",
    "test_stat\n"
   ]
  },
  {
   "cell_type": "code",
   "execution_count": 7,
   "id": "e82002ea",
   "metadata": {
    "colab": {
     "base_uri": "https://localhost:8080/"
    },
    "id": "P-sbsv2ued1d",
    "outputId": "341677f8-55b8-481f-a9ae-f4211e6fc012",
    "scrolled": false
   },
   "outputs": [],
   "source": [
    "# calculate the probability using the cdf() function\n",
    "p_value= 1- norm.cdf(test_stat)"
   ]
  },
  {
   "cell_type": "code",
   "execution_count": 8,
   "id": "80d4ef24",
   "metadata": {
    "scrolled": false
   },
   "outputs": [
    {
     "name": "stdout",
     "output_type": "stream",
     "text": [
      "Level of significance: 0.05\n",
      " p-value:  1.0000\n",
      "We have no evidence to reject the null hypothesis since p value > Level of significance\n"
     ]
    }
   ],
   "source": [
    "# p_value < 0.05 => alternative hypothesis:\n",
    "\n",
    "alpha_value = 0.05 # Level of significance\n",
    "print('Level of significance: %.2f' %alpha_value)\n",
    "print (\" p-value:  %.4f\" %p_value)\n",
    "if p_value < alpha_value: \n",
    "    print('We have evidence to reject the null hypothesis since p value < Level of significance')\n",
    "else:\n",
    "    print('We have no evidence to reject the null hypothesis since p value > Level of significance') \n",
    "\n"
   ]
  },
  {
   "cell_type": "markdown",
   "id": "f07dd68f",
   "metadata": {
    "id": "3QCb1bK6gUTA"
   },
   "source": [
    "### Insight\n",
    "\n",
    "As the p-value ~0.000 is less than level of significance, we can  reject the null hypothesis. Thus, we have statistical evidence to say that the strength of gunny bags is less than 3.17 days."
   ]
  },
  {
   "cell_type": "markdown",
   "id": "350ecda4",
   "metadata": {
    "id": "4dihfsGeO-RR"
   },
   "source": [
    "#### Rejection Region Approach\n",
    "\n",
    "For this approach, we need to follow the below steps.\n",
    "\n",
    "\n",
    "1.   We choose a value of level of significance ($\\alpha$).\n",
    "\n",
    "     ($\\alpha$ is the probability of rejecting the null hypothesis if it is true.)\n",
    "\n",
    "2.   Then, we find the rejection region in the graph.\n",
    "\n",
    "3.   We reject the null hypothesis if the test statistic falls in the rejection region. Else, we don't reject the null hypothesis.\n",
    "\n",
    "In the given example, the Z test statistic follows a standard normal distribution as shown in the above plot. The Z values lying in the right end of the distribution gives strong evidence against the null hypothesis. To find the rejection region, we will find the value of Z (called critical value) that gives an area of $\\alpha$ to the right end."
   ]
  },
  {
   "cell_type": "markdown",
   "id": "292084bf",
   "metadata": {
    "id": "pj41yWnjYKZl"
   },
   "source": [
    "The critical value separates the region where we will reject the null hypothesis from the region where we won't reject the null hypothesis. See the below plot."
   ]
  },
  {
   "cell_type": "code",
   "execution_count": 9,
   "id": "157e7f6a",
   "metadata": {
    "scrolled": true
   },
   "outputs": [
    {
     "data": {
      "image/png": "[encoded data removed]",
      "text/plain": [
       "<Figure size 640x480 with 1 Axes>"
      ]
     },
     "metadata": {},
     "output_type": "display_data"
    }
   ],
   "source": [
    "m=5\n",
    "sd=1.5\n",
    "x=np.linspace(0,10,100)\n",
    "plt.xticks(np.arange(-1,12,1.5))\n",
    "plt.plot(x,stats.norm(m,sd).pdf(x),'b')\n",
    "px=np.arange(0,3.17,0.1)\n",
    "plt.fill_between(px,stats.norm(m,sd).pdf(px),color='r')\n",
    "plt.axvline(3.16,ymax=0.9,linestyle='-',color='r')\n",
    "plt.xlabel('Breaking Strength (sq. centimeter)') \n",
    "plt.ylabel('Probability') \n",
    "plt.title('gunny bags have a breaking strength of less than 3.17 kg per sq cm')\n",
    "plt.show()"
   ]
  },
  {
   "cell_type": "code",
   "execution_count": 10,
   "id": "a52a4f11",
   "metadata": {
    "scrolled": true
   },
   "outputs": [
    {
     "data": {
      "text/plain": [
       "0.11123243744783456"
      ]
     },
     "execution_count": 10,
     "metadata": {},
     "output_type": "execute_result"
    }
   ],
   "source": [
    "stats.norm.cdf(3.17,loc=5,scale=1.5)"
   ]
  },
  {
   "cell_type": "markdown",
   "id": "9fb0caf1",
   "metadata": {
    "id": "3QCb1bK6gUTA"
   },
   "source": [
    "### Insight\n",
    "\n",
    "The proportion of the gunny bags have a breaking strength less than 3.17 kg per sq cm is : 0.11123243744783456"
   ]
  },
  {
   "cell_type": "markdown",
   "id": "c82e8343",
   "metadata": {},
   "source": [
    "#### 2.2 What proportion of the gunny bags have a breaking strength of at least 3.6 kg per sq cm.?\n",
    "\n"
   ]
  },
  {
   "cell_type": "code",
   "execution_count": 11,
   "id": "968a89c5",
   "metadata": {},
   "outputs": [
    {
     "data": {
      "text/plain": [
       "-6.260990336999411"
      ]
     },
     "execution_count": 11,
     "metadata": {},
     "output_type": "execute_result"
    }
   ],
   "source": [
    "# set the values of population mean and population standard deviation to 5 and 1.5 respectively\n",
    "mu, sigma = 5, 1.5\n",
    "\n",
    "# set the value sample mean to 3.6\n",
    "x_bar = 3.6\n",
    "\n",
    "# calculate the test statistic\n",
    "test_stat = (x_bar - mu) / (sigma/np.sqrt(45))\n",
    "test_stat\n"
   ]
  },
  {
   "cell_type": "markdown",
   "id": "005b4704",
   "metadata": {
    "id": "4dihfsGeO-RR"
   },
   "source": [
    "#### Rejection Region Approach\n",
    "\n",
    "For this approach, we need to follow the below steps.\n",
    "\n",
    "\n",
    "1.   We choose a value of level of significance ($\\alpha$).\n",
    "\n",
    "     ($\\alpha$ is the probability of rejecting the null hypothesis if it is true.)\n",
    "\n",
    "2.   Then, we find the rejection region in the graph.\n",
    "\n",
    "3.   We reject the null hypothesis if the test statistic falls in the rejection region. Else, we don't reject the null hypothesis.\n",
    "\n",
    "In the given example, the Z test statistic follows a standard normal distribution as shown in the above plot. The Z values lying in the right end of the distribution gives strong evidence against the null hypothesis. To find the rejection region, we will find the value of Z (called critical value) that gives an area of $\\alpha$ to the right end."
   ]
  },
  {
   "cell_type": "markdown",
   "id": "59605fbd",
   "metadata": {
    "id": "pj41yWnjYKZl"
   },
   "source": [
    "The critical value separates the region where we will reject the null hypothesis from the region where we won't reject the null hypothesis. See the below plot."
   ]
  },
  {
   "cell_type": "code",
   "execution_count": 12,
   "id": "ead09e86",
   "metadata": {},
   "outputs": [
    {
     "data": {
      "image/png": "[encoded data removed]",
      "text/plain": [
       "<Figure size 640x480 with 1 Axes>"
      ]
     },
     "metadata": {},
     "output_type": "display_data"
    }
   ],
   "source": [
    "m=5\n",
    "sd=1.5\n",
    "x=np.linspace(0,10,100)\n",
    "plt.xticks(np.arange(-1,12,1.5))\n",
    "plt.plot(x,stats.norm(m,sd).pdf(x),'b')\n",
    "px=np.arange(3.6,10,0.1)\n",
    "plt.fill_between(px,stats.norm(m,sd).pdf(px),color='r')\n",
    "plt.axvline(3.5,ymax=0.9,linestyle='-',color='r')\n",
    "plt.xlabel('Breaking Strength (sq. centimeter)') \n",
    "plt.ylabel('Probability') \n",
    "plt.title('gunny bags have a breaking strength of at least  3.6 kg per sq cm')\n",
    "\n",
    "plt.show()"
   ]
  },
  {
   "cell_type": "code",
   "execution_count": 13,
   "id": "0a05f79e",
   "metadata": {},
   "outputs": [
    {
     "data": {
      "text/plain": [
       "0.8246760551477705"
      ]
     },
     "execution_count": 13,
     "metadata": {},
     "output_type": "execute_result"
    }
   ],
   "source": [
    "1-stats.norm.cdf(3.6,loc=5,scale=1.5)"
   ]
  },
  {
   "cell_type": "markdown",
   "id": "614b071f",
   "metadata": {},
   "source": [
    "### Insight\n",
    "The proportion of the gunny bags have a breaking strength at least 3.6 kg per sq cm is: 0.8246760551477705"
   ]
  },
  {
   "cell_type": "markdown",
   "id": "992d9909",
   "metadata": {},
   "source": [
    "#### 2.3 What proportion of the gunny bags have a breaking strength between 5 and 5.5 kg per sq cm.?\n",
    "\n"
   ]
  },
  {
   "cell_type": "markdown",
   "id": "011943a8",
   "metadata": {
    "id": "4dihfsGeO-RR"
   },
   "source": [
    "#### Rejection Region Approach\n",
    "\n",
    "For this approach, we need to follow the below steps.\n",
    "\n",
    "\n",
    "1.   We choose a value of level of significance ($\\alpha$).\n",
    "\n",
    "     ($\\alpha$ is the probability of rejecting the null hypothesis if it is true.)\n",
    "\n",
    "2.   Then, we find the rejection region in the graph.\n",
    "\n",
    "3.   We reject the null hypothesis if the test statistic falls in the rejection region. Else, we don't reject the null hypothesis.\n",
    "\n",
    "In the given example, the Z test statistic follows a standard normal distribution as shown in the above plot. The Z values lying in the right end of the distribution gives strong evidence against the null hypothesis. To find the rejection region, we will find the value of Z (called critical value) that gives an area of $\\alpha$ to the right end."
   ]
  },
  {
   "cell_type": "markdown",
   "id": "457072f1",
   "metadata": {
    "id": "pj41yWnjYKZl"
   },
   "source": [
    "The critical value separates the region where we will reject the null hypothesis from the region where we won't reject the null hypothesis. See the below plot."
   ]
  },
  {
   "cell_type": "code",
   "execution_count": null,
   "id": "ff066067",
   "metadata": {},
   "outputs": [],
   "source": []
  },
  {
   "cell_type": "code",
   "execution_count": 14,
   "id": "246c8ffb",
   "metadata": {},
   "outputs": [
    {
     "data": {
      "image/png": "[encoded data removed]",
      "text/plain": [
       "<Figure size 640x480 with 1 Axes>"
      ]
     },
     "metadata": {},
     "output_type": "display_data"
    }
   ],
   "source": [
    "m=5\n",
    "sd=1.5\n",
    "x=np.linspace(0,10,100)\n",
    "plt.xticks(np.arange(-1,12,1.5))\n",
    "plt.plot(x,stats.norm(m,sd).pdf(x),'b')\n",
    "px=np.arange(5,5.5,0.1)\n",
    "plt.fill_between(px,stats.norm(m,sd).pdf(px),color='r')\n",
    "plt.axvline(5,ymax=0.9,linestyle='-',color='r')\n",
    "plt.xlabel('Breaking Strength (sq. centimeter)') \n",
    "plt.ylabel('Probability') \n",
    "plt.title('gunny bags have a breaking strength between 5 ad 5.5 kg per sq cm')\n",
    "\n",
    "plt.show()"
   ]
  },
  {
   "cell_type": "code",
   "execution_count": 15,
   "id": "a2fb1a51",
   "metadata": {},
   "outputs": [
    {
     "data": {
      "text/plain": [
       "0.13055865981823633"
      ]
     },
     "execution_count": 15,
     "metadata": {},
     "output_type": "execute_result"
    }
   ],
   "source": [
    "stats.norm.cdf(5.5,loc=5,scale=1.5) - stats.norm.cdf(5,loc=5,scale=1.5)"
   ]
  },
  {
   "cell_type": "markdown",
   "id": "e34df2a6",
   "metadata": {},
   "source": [
    "### Insight\n",
    "The proportion of the gunny bags have a breaking strength between 5 and 5.5 kg per sq cm is 0.13055865981823633"
   ]
  },
  {
   "cell_type": "markdown",
   "id": "2e88253b",
   "metadata": {},
   "source": [
    "#### 2.4 What proportion of the gunny bags have a breaking strength NOT between 3 and 7.5 kg per sq cm.?"
   ]
  },
  {
   "cell_type": "markdown",
   "id": "7a5b0663",
   "metadata": {
    "id": "4dihfsGeO-RR"
   },
   "source": [
    "#### Rejection Region Approach\n",
    "\n",
    "For this approach, we need to follow the below steps.\n",
    "\n",
    "\n",
    "1.   We choose a value of level of significance ($\\alpha$).\n",
    "\n",
    "     ($\\alpha$ is the probability of rejecting the null hypothesis if it is true.)\n",
    "\n",
    "2.   Then, we find the rejection region in the graph.\n",
    "\n",
    "3.   We reject the null hypothesis if the test statistic falls in the rejection region. Else, we don't reject the null hypothesis.\n",
    "\n",
    "In the given example, the Z test statistic follows a standard normal distribution as shown in the above plot. The Z values lying in the right end of the distribution gives strong evidence against the null hypothesis. To find the rejection region, we will find the value of Z (called critical value) that gives an area of $\\alpha$ to the right end."
   ]
  },
  {
   "cell_type": "markdown",
   "id": "d07aa060",
   "metadata": {
    "id": "pj41yWnjYKZl"
   },
   "source": [
    "The critical value separates the region where we will reject the null hypothesis from the region where we won't reject the null hypothesis. See the below plot."
   ]
  },
  {
   "cell_type": "code",
   "execution_count": 16,
   "id": "d8c7216a",
   "metadata": {},
   "outputs": [
    {
     "data": {
      "image/png": "[encoded data removed]",
      "text/plain": [
       "<Figure size 640x480 with 1 Axes>"
      ]
     },
     "metadata": {},
     "output_type": "display_data"
    }
   ],
   "source": [
    "m=5\n",
    "sd=1.5\n",
    "x=np.linspace(0,10,100)\n",
    "plt.xticks(np.arange(-1,12,1.5))\n",
    "plt.plot(x,stats.norm(m,sd).pdf(x),'b')\n",
    "px=np.arange(0,3,0.1)\n",
    "plt.fill_between(px,stats.norm(m,sd).pdf(px),color='r')\n",
    "plt.axvline(3,ymax=0.9,linestyle='-',color='r')\n",
    "px=np.arange(7.5,10,0.1)\n",
    "plt.fill_between(px,stats.norm(m,sd).pdf(px),color='r')\n",
    "plt.axvline(7.5,ymax=0.9,linestyle='-',color='r')\n",
    "plt.xlabel('Breaking Strength (sq. centimeter)') \n",
    "plt.ylabel('Probability') \n",
    "plt.title('gunny bags have a breaking strength not between 3 and 7.5 kg per sq cm')\n",
    "\n",
    "plt.show()"
   ]
  },
  {
   "cell_type": "code",
   "execution_count": 17,
   "id": "883ea9b8",
   "metadata": {},
   "outputs": [
    {
     "data": {
      "text/plain": [
       "0.13900157199868257"
      ]
     },
     "execution_count": 17,
     "metadata": {},
     "output_type": "execute_result"
    }
   ],
   "source": [
    "1-(stats.norm.cdf(7.5,loc=5,scale=1.5) - stats.norm.cdf(3,loc=5,scale=1.5))"
   ]
  },
  {
   "cell_type": "markdown",
   "id": "625ee303",
   "metadata": {},
   "source": [
    "### Insight\n",
    "The proportion of the gunny bags have a breaking strength not between 3 and 7.5 kg per sq cm is 0.13900157199868257"
   ]
  },
  {
   "cell_type": "code",
   "execution_count": null,
   "id": "a404cdd0",
   "metadata": {},
   "outputs": [],
   "source": []
  },
  {
   "cell_type": "code",
   "execution_count": null,
   "id": "d9714331",
   "metadata": {},
   "outputs": [],
   "source": []
  },
  {
   "cell_type": "markdown",
   "id": "41e19a30",
   "metadata": {},
   "source": [
    "### Problem 3\n"
   ]
  },
  {
   "cell_type": "markdown",
   "id": "d8859d71",
   "metadata": {},
   "source": [
    "#### Zingaro stone printing is a company that specializes in printing images or patterns on polished or unpolished stones. However, for the optimum level of printing of the image, the stone surface has to have a Brinell's hardness index of at least 150. Recently, Zingaro has received a batch of polished and unpolished stones from its clients. Use the data provided to answer the following (assuming a 5% significance level);"
   ]
  },
  {
   "cell_type": "code",
   "execution_count": 18,
   "id": "08060db6",
   "metadata": {},
   "outputs": [
    {
     "data": {
      "text/html": [
       "<div>\n",
       "<style scoped>\n",
       "    .dataframe tbody tr th:only-of-type {\n",
       "        vertical-align: middle;\n",
       "    }\n",
       "\n",
       "    .dataframe tbody tr th {\n",
       "        vertical-align: top;\n",
       "    }\n",
       "\n",
       "    .dataframe thead th {\n",
       "        text-align: right;\n",
       "    }\n",
       "</style>\n",
       "<table border=\"1\" class=\"dataframe\">\n",
       "  <thead>\n",
       "    <tr style=\"text-align: right;\">\n",
       "      <th></th>\n",
       "      <th>Unpolished</th>\n",
       "      <th>Treated and Polished</th>\n",
       "    </tr>\n",
       "  </thead>\n",
       "  <tbody>\n",
       "    <tr>\n",
       "      <th>0</th>\n",
       "      <td>164.481713</td>\n",
       "      <td>133.209393</td>\n",
       "    </tr>\n",
       "    <tr>\n",
       "      <th>1</th>\n",
       "      <td>154.307045</td>\n",
       "      <td>138.482771</td>\n",
       "    </tr>\n",
       "    <tr>\n",
       "      <th>2</th>\n",
       "      <td>129.861048</td>\n",
       "      <td>159.665201</td>\n",
       "    </tr>\n",
       "    <tr>\n",
       "      <th>3</th>\n",
       "      <td>159.096184</td>\n",
       "      <td>145.663528</td>\n",
       "    </tr>\n",
       "    <tr>\n",
       "      <th>4</th>\n",
       "      <td>135.256748</td>\n",
       "      <td>136.789227</td>\n",
       "    </tr>\n",
       "  </tbody>\n",
       "</table>\n",
       "</div>"
      ],
      "text/plain": [
       "   Unpolished   Treated and Polished\n",
       "0   164.481713            133.209393\n",
       "1   154.307045            138.482771\n",
       "2   129.861048            159.665201\n",
       "3   159.096184            145.663528\n",
       "4   135.256748            136.789227"
      ]
     },
     "execution_count": 18,
     "metadata": {},
     "output_type": "execute_result"
    }
   ],
   "source": [
    "zingaro_df=pd.read_csv('Zingaro_Company.csv')\n",
    "zingaro_df.head()"
   ]
  },
  {
   "cell_type": "code",
   "execution_count": 19,
   "id": "7958c1e1",
   "metadata": {
    "scrolled": true
   },
   "outputs": [
    {
     "name": "stdout",
     "output_type": "stream",
     "text": [
      "<class 'pandas.core.frame.DataFrame'>\n",
      "RangeIndex: 75 entries, 0 to 74\n",
      "Data columns (total 2 columns):\n",
      " #   Column                Non-Null Count  Dtype  \n",
      "---  ------                --------------  -----  \n",
      " 0   Unpolished            75 non-null     float64\n",
      " 1   Treated and Polished  75 non-null     float64\n",
      "dtypes: float64(2)\n",
      "memory usage: 1.3 KB\n"
     ]
    }
   ],
   "source": [
    "zingaro_df.info()"
   ]
  },
  {
   "cell_type": "code",
   "execution_count": 20,
   "id": "3f1cc8bd",
   "metadata": {},
   "outputs": [
    {
     "data": {
      "text/html": [
       "<div>\n",
       "<style scoped>\n",
       "    .dataframe tbody tr th:only-of-type {\n",
       "        vertical-align: middle;\n",
       "    }\n",
       "\n",
       "    .dataframe tbody tr th {\n",
       "        vertical-align: top;\n",
       "    }\n",
       "\n",
       "    .dataframe thead th {\n",
       "        text-align: right;\n",
       "    }\n",
       "</style>\n",
       "<table border=\"1\" class=\"dataframe\">\n",
       "  <thead>\n",
       "    <tr style=\"text-align: right;\">\n",
       "      <th></th>\n",
       "      <th>Unpolished</th>\n",
       "      <th>Treated and Polished</th>\n",
       "    </tr>\n",
       "  </thead>\n",
       "  <tbody>\n",
       "    <tr>\n",
       "      <th>count</th>\n",
       "      <td>75.000000</td>\n",
       "      <td>75.000000</td>\n",
       "    </tr>\n",
       "    <tr>\n",
       "      <th>mean</th>\n",
       "      <td>134.110527</td>\n",
       "      <td>147.788117</td>\n",
       "    </tr>\n",
       "    <tr>\n",
       "      <th>std</th>\n",
       "      <td>33.041804</td>\n",
       "      <td>15.587355</td>\n",
       "    </tr>\n",
       "    <tr>\n",
       "      <th>min</th>\n",
       "      <td>48.406838</td>\n",
       "      <td>107.524167</td>\n",
       "    </tr>\n",
       "    <tr>\n",
       "      <th>25%</th>\n",
       "      <td>115.329753</td>\n",
       "      <td>138.268300</td>\n",
       "    </tr>\n",
       "    <tr>\n",
       "      <th>50%</th>\n",
       "      <td>135.597121</td>\n",
       "      <td>145.721322</td>\n",
       "    </tr>\n",
       "    <tr>\n",
       "      <th>75%</th>\n",
       "      <td>158.215098</td>\n",
       "      <td>157.373318</td>\n",
       "    </tr>\n",
       "    <tr>\n",
       "      <th>max</th>\n",
       "      <td>200.161313</td>\n",
       "      <td>192.272856</td>\n",
       "    </tr>\n",
       "  </tbody>\n",
       "</table>\n",
       "</div>"
      ],
      "text/plain": [
       "       Unpolished   Treated and Polished\n",
       "count    75.000000             75.000000\n",
       "mean    134.110527            147.788117\n",
       "std      33.041804             15.587355\n",
       "min      48.406838            107.524167\n",
       "25%     115.329753            138.268300\n",
       "50%     135.597121            145.721322\n",
       "75%     158.215098            157.373318\n",
       "max     200.161313            192.272856"
      ]
     },
     "execution_count": 20,
     "metadata": {},
     "output_type": "execute_result"
    }
   ],
   "source": [
    "zingaro_df.describe()"
   ]
  },
  {
   "cell_type": "markdown",
   "id": "27a4e7a7",
   "metadata": {},
   "source": [
    "#### 3.1 Zingaro has reason to believe that the unpolished stones may not be suitable for printing. Do you think Zingaro is justified in thinking so?\n",
    "\n"
   ]
  },
  {
   "cell_type": "markdown",
   "id": "4411e84d",
   "metadata": {},
   "source": [
    "#####  Step 1: Define null and alternative hypotheses"
   ]
  },
  {
   "cell_type": "markdown",
   "id": "c6df8d3d",
   "metadata": {},
   "source": [
    "\n",
    "In testing the hardness index of stones.\n",
    "\n",
    "Null hypothesis states that hardness index,  $\\mu$ is not less than 150.\n",
    "Alternative hypothesis states that the mean hardness index,  $\\mu$ is unequal to 150.\n",
    "* $H_0$: $\\mu_{Unpolished}$ $\\geq$  150\n",
    "* $H_A$: $\\mu_{Unpolished}$ <  150\n",
    "\n",
    "Here mu_{Unpolished} denotes hardness index of unpolished stones "
   ]
  },
  {
   "cell_type": "markdown",
   "id": "74735ccd",
   "metadata": {},
   "source": [
    "##### Step 2: Decide the significance level\n"
   ]
  },
  {
   "cell_type": "markdown",
   "id": "c1b5e13f",
   "metadata": {},
   "source": [
    "Here we select α= 0.05."
   ]
  },
  {
   "cell_type": "code",
   "execution_count": 21,
   "id": "24e5d96e",
   "metadata": {},
   "outputs": [
    {
     "name": "stdout",
     "output_type": "stream",
     "text": [
      "The sample size for this problem is 75\n"
     ]
    }
   ],
   "source": [
    "print(\"The sample size for this problem is\",len(zingaro_df))"
   ]
  },
  {
   "cell_type": "markdown",
   "id": "3a6491d5",
   "metadata": {},
   "source": [
    "### Step 3: Identify the test statistic"
   ]
  },
  {
   "cell_type": "markdown",
   "id": "52c7fc38",
   "metadata": {},
   "source": [
    "We do not know the population standard deviation and n = 30. So we use the t distribution and the $t_{STAT}$ test statistic."
   ]
  },
  {
   "cell_type": "markdown",
   "id": "26547f82",
   "metadata": {},
   "source": [
    "### Step 4: Calculate the p - value and test statistic"
   ]
  },
  {
   "cell_type": "markdown",
   "id": "8ad860a1",
   "metadata": {},
   "source": [
    "**scipy.stats.ttest_1samp calculates the t test for the mean of one sample given the sample observations and  the expected value in the null hypothesis. This function returns t statistic and the two-tailed p value.**"
   ]
  },
  {
   "cell_type": "code",
   "execution_count": 22,
   "id": "36a3fc55",
   "metadata": {
    "scrolled": true
   },
   "outputs": [
    {
     "name": "stdout",
     "output_type": "stream",
     "text": [
      "One sample t test \n",
      "t statistic: -4.164629601426757 p value: 8.342573994839304e-05 \n"
     ]
    }
   ],
   "source": [
    "t_statistic, p_value = ttest_1samp(zingaro_df['Unpolished '], 150)\n",
    "print('One sample t test \\nt statistic: {0} p value: {1} '.format(t_statistic, p_value))"
   ]
  },
  {
   "cell_type": "markdown",
   "id": "f9642e56",
   "metadata": {},
   "source": [
    "### Step 5:Decide to reject or accept null hypothesis"
   ]
  },
  {
   "cell_type": "code",
   "execution_count": 23,
   "id": "db089e40",
   "metadata": {},
   "outputs": [
    {
     "name": "stdout",
     "output_type": "stream",
     "text": [
      "Level of significance: 0.05\n",
      "We have evidence to reject the null hypothesis since p value < Level of significance\n",
      "Our one-sample t-test p-value= 8.342573994839304e-05\n"
     ]
    }
   ],
   "source": [
    "# p_value < 0.05 => alternative hypothesis:\n",
    "\n",
    "alpha_value = 0.05 # Level of significance\n",
    "print('Level of significance: %.2f' %alpha_value)\n",
    "if p_value < alpha_value: \n",
    "    print('We have evidence to reject the null hypothesis since p value < Level of significance')\n",
    "else:\n",
    "    print('We have no evidence to reject the null hypothesis since p value > Level of significance') \n",
    "\n",
    "print (\"Our one-sample t-test p-value=\", p_value)"
   ]
  },
  {
   "cell_type": "markdown",
   "id": "f5b35658",
   "metadata": {},
   "source": [
    "#### Insight\n",
    "###### Zingaro is right to consider Unpolished stones are not right for printing."
   ]
  },
  {
   "cell_type": "code",
   "execution_count": null,
   "id": "11af216a",
   "metadata": {},
   "outputs": [],
   "source": []
  },
  {
   "cell_type": "markdown",
   "id": "41377d80",
   "metadata": {},
   "source": [
    "#### 3.2 Is the mean hardness of the polished and unpolished stones the same?"
   ]
  },
  {
   "cell_type": "markdown",
   "id": "0750178f",
   "metadata": {},
   "source": [
    "#####  Step 1: Define null and alternative hypotheses"
   ]
  },
  {
   "cell_type": "markdown",
   "id": "2c4e871f",
   "metadata": {},
   "source": [
    "\n",
    "In testing the hardness index of stones.\n",
    "\n",
    "Null hypothesis states that hardness index,  $\\mu$ is not less than 150.\n",
    "Alternative hypothesis states that the mean hardness index,  $\\mu$ is unequal to 150.\n",
    "* $H_0$: $\\mu_{Unpolished}$ = $\\mu_{Polished}$ \n",
    "* $H_A$: $\\mu_{Unpolished}$$\\neq$  $\\mu_{Polished}$ \n",
    "\n",
    "Here mu_{Unpolished} denotes hardness index of unpolished stones and mu_{Polished} denotes hardness index of polished stones."
   ]
  },
  {
   "cell_type": "markdown",
   "id": "b4e8c1ca",
   "metadata": {},
   "source": [
    "##### Step 2: Decide the significance level\n"
   ]
  },
  {
   "cell_type": "markdown",
   "id": "238b63b0",
   "metadata": {},
   "source": [
    "Here we select α= 0.05."
   ]
  },
  {
   "cell_type": "code",
   "execution_count": 24,
   "id": "39c26d91",
   "metadata": {},
   "outputs": [
    {
     "name": "stdout",
     "output_type": "stream",
     "text": [
      "The sample size for this problem is 75\n"
     ]
    }
   ],
   "source": [
    "print(\"The sample size for this problem is\",len(zingaro_df))"
   ]
  },
  {
   "cell_type": "markdown",
   "id": "8b879564",
   "metadata": {},
   "source": [
    "### Step 3: Identify the test statistic"
   ]
  },
  {
   "cell_type": "markdown",
   "id": "9174b342",
   "metadata": {},
   "source": [
    "* We have two samples and we do not know the population standard deviation.\n",
    "* Sample sizes for both samples are  same.\n",
    "* The sample is not a large sample, n < 30. So you use the t distribution and the $t_{STAT}$ test statistic for two sample unpaired test."
   ]
  },
  {
   "cell_type": "markdown",
   "id": "23a2546b",
   "metadata": {},
   "source": [
    "### Step 4: Calculate the p - value and test statistic"
   ]
  },
  {
   "cell_type": "markdown",
   "id": "127deb32",
   "metadata": {},
   "source": [
    "** We use the scipy.stats.ttest_ind to calculate the t-test for the means of TWO INDEPENDENT samples of scores given the two sample observations. This function returns t statistic and two-tailed p value.**\n",
    "\n",
    "** This is a two-sided test for the null hypothesis that 2 independent samples have identical average (expected) values. This test assumes that the populations have identical variances.**"
   ]
  },
  {
   "cell_type": "markdown",
   "id": "df761aa6",
   "metadata": {},
   "source": [
    "For this exercise, we are going to first assume that the variance is equal and then compute the necessary statistical values."
   ]
  },
  {
   "cell_type": "code",
   "execution_count": 25,
   "id": "536abce9",
   "metadata": {},
   "outputs": [
    {
     "name": "stdout",
     "output_type": "stream",
     "text": [
      "tstat  -3.242\n",
      "p-value for two-tail: 0.001588379295584306\n"
     ]
    }
   ],
   "source": [
    "t_statistic, p_value  = stats.ttest_ind(zingaro_df['Unpolished '],zingaro_df['Treated and Polished'], equal_var=False)\n",
    "print('tstat  %1.3f' % t_statistic)    \n",
    "print(\"p-value for two-tail:\", p_value)"
   ]
  },
  {
   "cell_type": "markdown",
   "id": "c7dbfe88",
   "metadata": {},
   "source": [
    "### Step 5:  Decide to reject or accept null hypothesis"
   ]
  },
  {
   "cell_type": "code",
   "execution_count": 26,
   "id": "bdac620b",
   "metadata": {
    "scrolled": false
   },
   "outputs": [
    {
     "name": "stdout",
     "output_type": "stream",
     "text": [
      "Level of significance: 0.05\n",
      "We have evidence to reject the null hypothesis since p value < Level of significance\n",
      "Our one-sample t-test p-value= 0.001588379295584306\n"
     ]
    }
   ],
   "source": [
    "# p_value < 0.05 => alternative hypothesis:\n",
    "\n",
    "alpha_value = 0.05 # Level of significance\n",
    "print('Level of significance: %.2f' %alpha_value)\n",
    "if p_value < alpha_value: \n",
    "    print('We have evidence to reject the null hypothesis since p value < Level of significance')\n",
    "else:\n",
    "    print('We have no evidence to reject the null hypothesis since p value > Level of significance') \n",
    "\n",
    "print (\"Our one-sample t-test p-value=\", p_value)"
   ]
  },
  {
   "cell_type": "markdown",
   "id": "97ee509f",
   "metadata": {},
   "source": [
    "#### Insight\n",
    "##### As per the T-Test, We found the P value  it is less than Level of Significance. Hence, We can reject Null Hypothesis. And conclude that Mean Hardness of “Unpolished Stones” and “Polished Stones” are not same"
   ]
  },
  {
   "cell_type": "markdown",
   "id": "2462d752",
   "metadata": {},
   "source": [
    "### Problem 4\n"
   ]
  },
  {
   "cell_type": "markdown",
   "id": "ad26c766",
   "metadata": {},
   "source": [
    "#### Dental implant data: The hardness of metal implants in dental cavities depends on multiple factors, such as the method of implant, the temperature at which the metal is treated, the alloy used as well as the dentists who may favor one method above another and may work better in his/her favorite method. The response is the variable of interest."
   ]
  },
  {
   "cell_type": "code",
   "execution_count": 27,
   "id": "ce0e2a81",
   "metadata": {},
   "outputs": [
    {
     "data": {
      "text/html": [
       "<div>\n",
       "<style scoped>\n",
       "    .dataframe tbody tr th:only-of-type {\n",
       "        vertical-align: middle;\n",
       "    }\n",
       "\n",
       "    .dataframe tbody tr th {\n",
       "        vertical-align: top;\n",
       "    }\n",
       "\n",
       "    .dataframe thead th {\n",
       "        text-align: right;\n",
       "    }\n",
       "</style>\n",
       "<table border=\"1\" class=\"dataframe\">\n",
       "  <thead>\n",
       "    <tr style=\"text-align: right;\">\n",
       "      <th></th>\n",
       "      <th>Dentist</th>\n",
       "      <th>Method</th>\n",
       "      <th>Alloy</th>\n",
       "      <th>Temp</th>\n",
       "      <th>Response</th>\n",
       "    </tr>\n",
       "  </thead>\n",
       "  <tbody>\n",
       "    <tr>\n",
       "      <th>0</th>\n",
       "      <td>1</td>\n",
       "      <td>1</td>\n",
       "      <td>1</td>\n",
       "      <td>1500</td>\n",
       "      <td>813</td>\n",
       "    </tr>\n",
       "    <tr>\n",
       "      <th>1</th>\n",
       "      <td>1</td>\n",
       "      <td>1</td>\n",
       "      <td>1</td>\n",
       "      <td>1600</td>\n",
       "      <td>792</td>\n",
       "    </tr>\n",
       "    <tr>\n",
       "      <th>2</th>\n",
       "      <td>1</td>\n",
       "      <td>1</td>\n",
       "      <td>1</td>\n",
       "      <td>1700</td>\n",
       "      <td>792</td>\n",
       "    </tr>\n",
       "    <tr>\n",
       "      <th>3</th>\n",
       "      <td>1</td>\n",
       "      <td>1</td>\n",
       "      <td>2</td>\n",
       "      <td>1500</td>\n",
       "      <td>907</td>\n",
       "    </tr>\n",
       "    <tr>\n",
       "      <th>4</th>\n",
       "      <td>1</td>\n",
       "      <td>1</td>\n",
       "      <td>2</td>\n",
       "      <td>1600</td>\n",
       "      <td>792</td>\n",
       "    </tr>\n",
       "  </tbody>\n",
       "</table>\n",
       "</div>"
      ],
      "text/plain": [
       "   Dentist  Method  Alloy  Temp  Response\n",
       "0        1       1      1  1500       813\n",
       "1        1       1      1  1600       792\n",
       "2        1       1      1  1700       792\n",
       "3        1       1      2  1500       907\n",
       "4        1       1      2  1600       792"
      ]
     },
     "execution_count": 27,
     "metadata": {},
     "output_type": "execute_result"
    }
   ],
   "source": [
    "dental_df= pd.read_excel('Dental+Hardness+data.xlsx')\n",
    "dental_df.head()"
   ]
  },
  {
   "cell_type": "code",
   "execution_count": 28,
   "id": "0b519ddc",
   "metadata": {},
   "outputs": [
    {
     "data": {
      "text/html": [
       "<div>\n",
       "<style scoped>\n",
       "    .dataframe tbody tr th:only-of-type {\n",
       "        vertical-align: middle;\n",
       "    }\n",
       "\n",
       "    .dataframe tbody tr th {\n",
       "        vertical-align: top;\n",
       "    }\n",
       "\n",
       "    .dataframe thead th {\n",
       "        text-align: right;\n",
       "    }\n",
       "</style>\n",
       "<table border=\"1\" class=\"dataframe\">\n",
       "  <thead>\n",
       "    <tr style=\"text-align: right;\">\n",
       "      <th></th>\n",
       "      <th>Dentist</th>\n",
       "      <th>Method</th>\n",
       "      <th>Alloy</th>\n",
       "      <th>Temp</th>\n",
       "      <th>Response</th>\n",
       "    </tr>\n",
       "  </thead>\n",
       "  <tbody>\n",
       "    <tr>\n",
       "      <th>count</th>\n",
       "      <td>90.000000</td>\n",
       "      <td>90.000000</td>\n",
       "      <td>90.000000</td>\n",
       "      <td>90.000000</td>\n",
       "      <td>90.000000</td>\n",
       "    </tr>\n",
       "    <tr>\n",
       "      <th>mean</th>\n",
       "      <td>3.000000</td>\n",
       "      <td>2.000000</td>\n",
       "      <td>1.500000</td>\n",
       "      <td>1600.000000</td>\n",
       "      <td>741.777778</td>\n",
       "    </tr>\n",
       "    <tr>\n",
       "      <th>std</th>\n",
       "      <td>1.422136</td>\n",
       "      <td>0.821071</td>\n",
       "      <td>0.502801</td>\n",
       "      <td>82.107083</td>\n",
       "      <td>145.767845</td>\n",
       "    </tr>\n",
       "    <tr>\n",
       "      <th>min</th>\n",
       "      <td>1.000000</td>\n",
       "      <td>1.000000</td>\n",
       "      <td>1.000000</td>\n",
       "      <td>1500.000000</td>\n",
       "      <td>289.000000</td>\n",
       "    </tr>\n",
       "    <tr>\n",
       "      <th>25%</th>\n",
       "      <td>2.000000</td>\n",
       "      <td>1.000000</td>\n",
       "      <td>1.000000</td>\n",
       "      <td>1500.000000</td>\n",
       "      <td>698.000000</td>\n",
       "    </tr>\n",
       "    <tr>\n",
       "      <th>50%</th>\n",
       "      <td>3.000000</td>\n",
       "      <td>2.000000</td>\n",
       "      <td>1.500000</td>\n",
       "      <td>1600.000000</td>\n",
       "      <td>767.000000</td>\n",
       "    </tr>\n",
       "    <tr>\n",
       "      <th>75%</th>\n",
       "      <td>4.000000</td>\n",
       "      <td>3.000000</td>\n",
       "      <td>2.000000</td>\n",
       "      <td>1700.000000</td>\n",
       "      <td>824.000000</td>\n",
       "    </tr>\n",
       "    <tr>\n",
       "      <th>max</th>\n",
       "      <td>5.000000</td>\n",
       "      <td>3.000000</td>\n",
       "      <td>2.000000</td>\n",
       "      <td>1700.000000</td>\n",
       "      <td>1115.000000</td>\n",
       "    </tr>\n",
       "  </tbody>\n",
       "</table>\n",
       "</div>"
      ],
      "text/plain": [
       "         Dentist     Method      Alloy         Temp     Response\n",
       "count  90.000000  90.000000  90.000000    90.000000    90.000000\n",
       "mean    3.000000   2.000000   1.500000  1600.000000   741.777778\n",
       "std     1.422136   0.821071   0.502801    82.107083   145.767845\n",
       "min     1.000000   1.000000   1.000000  1500.000000   289.000000\n",
       "25%     2.000000   1.000000   1.000000  1500.000000   698.000000\n",
       "50%     3.000000   2.000000   1.500000  1600.000000   767.000000\n",
       "75%     4.000000   3.000000   2.000000  1700.000000   824.000000\n",
       "max     5.000000   3.000000   2.000000  1700.000000  1115.000000"
      ]
     },
     "execution_count": 28,
     "metadata": {},
     "output_type": "execute_result"
    }
   ],
   "source": [
    "dental_df.describe()"
   ]
  },
  {
   "cell_type": "code",
   "execution_count": 29,
   "id": "bd06def0",
   "metadata": {},
   "outputs": [
    {
     "name": "stdout",
     "output_type": "stream",
     "text": [
      "<class 'pandas.core.frame.DataFrame'>\n",
      "RangeIndex: 90 entries, 0 to 89\n",
      "Data columns (total 5 columns):\n",
      " #   Column    Non-Null Count  Dtype\n",
      "---  ------    --------------  -----\n",
      " 0   Dentist   90 non-null     int64\n",
      " 1   Method    90 non-null     int64\n",
      " 2   Alloy     90 non-null     int64\n",
      " 3   Temp      90 non-null     int64\n",
      " 4   Response  90 non-null     int64\n",
      "dtypes: int64(5)\n",
      "memory usage: 3.6 KB\n"
     ]
    }
   ],
   "source": [
    "dental_df.info()"
   ]
  },
  {
   "cell_type": "code",
   "execution_count": 30,
   "id": "ed97d2ed",
   "metadata": {},
   "outputs": [],
   "source": [
    "dental_df.Alloy = pd.Categorical(dental_df.Alloy)"
   ]
  },
  {
   "cell_type": "code",
   "execution_count": 31,
   "id": "2bd4c589",
   "metadata": {
    "scrolled": true
   },
   "outputs": [
    {
     "data": {
      "text/plain": [
       "<bound method IndexOpsMixin.value_counts of 0     1\n",
       "1     1\n",
       "2     1\n",
       "3     2\n",
       "4     2\n",
       "     ..\n",
       "85    1\n",
       "86    1\n",
       "87    2\n",
       "88    2\n",
       "89    2\n",
       "Name: Alloy, Length: 90, dtype: category\n",
       "Categories (2, int64): [1, 2]>"
      ]
     },
     "execution_count": 31,
     "metadata": {},
     "output_type": "execute_result"
    }
   ],
   "source": [
    "dental_df.Alloy.value_counts"
   ]
  },
  {
   "cell_type": "code",
   "execution_count": 32,
   "id": "a0509175",
   "metadata": {},
   "outputs": [],
   "source": [
    "alloy1_df = dental_df[dental_df['Alloy']==1]\n",
    "alloy2_df = dental_df[dental_df['Alloy']==2]"
   ]
  },
  {
   "cell_type": "markdown",
   "id": "3ec0543e",
   "metadata": {},
   "source": [
    "#### 4.1 How does the hardness of implants vary depending on dentists?"
   ]
  },
  {
   "cell_type": "code",
   "execution_count": 33,
   "id": "d868286a",
   "metadata": {},
   "outputs": [],
   "source": [
    "dental_df.Dentist = pd.Categorical(dental_df.Dentist)"
   ]
  },
  {
   "cell_type": "code",
   "execution_count": 34,
   "id": "ad087339",
   "metadata": {
    "scrolled": true
   },
   "outputs": [
    {
     "data": {
      "text/plain": [
       "<bound method IndexOpsMixin.value_counts of 0     1\n",
       "1     1\n",
       "2     1\n",
       "3     1\n",
       "4     1\n",
       "     ..\n",
       "85    5\n",
       "86    5\n",
       "87    5\n",
       "88    5\n",
       "89    5\n",
       "Name: Dentist, Length: 90, dtype: category\n",
       "Categories (5, int64): [1, 2, 3, 4, 5]>"
      ]
     },
     "execution_count": 34,
     "metadata": {},
     "output_type": "execute_result"
    }
   ],
   "source": [
    "dental_df.Dentist.value_counts"
   ]
  },
  {
   "cell_type": "markdown",
   "id": "c3cb7f8f",
   "metadata": {
    "id": "j63R8Uh78C-w"
   },
   "source": [
    "### Let's write the null and alternative hypothesis\n",
    "\n",
    "Let $\\mu_1, \\mu_2, \\mu_3,\\mu_4,\\mu_5$ be the means of Hardness of Implants for Dentists 1,2,3,4,5 respectively.\n",
    "\n",
    "We will test the null hypothesis\n",
    "\n",
    ">$H_0: \\mu_1 = \\mu_2 = \\mu_3 = \\mu_4 =\\mu_5$\n",
    "\n",
    "against the alternative hypothesis\n",
    "\n",
    ">$H_a: $ At least one Hardness of Implants level is different from the rest.\n"
   ]
  },
  {
   "cell_type": "code",
   "execution_count": 35,
   "id": "e2a7c94f",
   "metadata": {
    "colab": {
     "base_uri": "https://localhost:8080/",
     "height": 492
    },
    "id": "WE2FRb1a9Gxs",
    "outputId": "baa8c2ce-a8c5-45bb-e6cc-03cc334d5165",
    "scrolled": true
   },
   "outputs": [
    {
     "name": "stdout",
     "output_type": "stream",
     "text": [
      "Dentist\n",
      "1    783.055556\n",
      "2    786.666667\n",
      "3    748.611111\n",
      "4    713.666667\n",
      "5    676.888889\n",
      "Name: Response, dtype: float64\n"
     ]
    },
    {
     "data": {
      "image/png": "[encoded data removed]",
      "text/plain": [
       "<Figure size 600x600 with 1 Axes>"
      ]
     },
     "metadata": {},
     "output_type": "display_data"
    }
   ],
   "source": [
    "# mean of hardness of Implants at different types of the Dentist factor\n",
    "print(dental_df.groupby(\"Dentist\")[\"Response\"].mean())\n",
    "\n",
    "# draw the boxplot for visualization \n",
    "fig, ax = plt.subplots(figsize = (6,6))\n",
    "a = sns.boxplot(x= \"Dentist\", y = 'Response' , data = dental_df, hue = 'Dentist')\n",
    "a.set_title(\"Response w.r.t. Dentist (5 levels)\", fontsize=15)\n",
    "plt.show()"
   ]
  },
  {
   "cell_type": "markdown",
   "id": "9e69baed",
   "metadata": {
    "id": "qb-sMEm2WtHf"
   },
   "source": [
    "Now, the normality and equality of variance assumptions need to be checked. \n",
    "\n",
    "* For testing of normality, Shapiro-Wilk’s test is applied to the response variable.\n",
    "\n",
    "* For equality of variance, Levene test is applied to the response variable."
   ]
  },
  {
   "cell_type": "markdown",
   "id": "5d82a899",
   "metadata": {
    "id": "_pFdvUuGC6qu"
   },
   "source": [
    "### Shapiro-Wilk’s test\n",
    "\n",
    "We will test the null hypothesis\n",
    "\n",
    ">$H_0:$ Dentist follows a normal distribution \n",
    "\n",
    "against the alternative hypothesis\n",
    "\n",
    ">$H_a:$ Dentist does not follow a normal distribution"
   ]
  },
  {
   "cell_type": "code",
   "execution_count": 36,
   "id": "3f889782",
   "metadata": {
    "colab": {
     "base_uri": "https://localhost:8080/"
    },
    "id": "yHZdbI6hClTY",
    "outputId": "43d972c7-63e0-4376-947a-2e22bacfb23a"
   },
   "outputs": [
    {
     "name": "stdout",
     "output_type": "stream",
     "text": [
      "The p-value is 1.1794428473876906e-06\n"
     ]
    }
   ],
   "source": [
    "# Assumption 1: Normality\n",
    "# import the required function\n",
    "from scipy import stats\n",
    "\n",
    "# find the p-value\n",
    "w, p_value = stats.shapiro(dental_df.Dentist) \n",
    "print('The p-value is', p_value)"
   ]
  },
  {
   "cell_type": "code",
   "execution_count": 37,
   "id": "4510ce35",
   "metadata": {
    "scrolled": true
   },
   "outputs": [
    {
     "name": "stdout",
     "output_type": "stream",
     "text": [
      "Level of significance: 0.05\n",
      " p-value= 1.1794428473876906e-06\n",
      "We have evidence to reject the null hypothesis since p value < Level of significance\n"
     ]
    }
   ],
   "source": [
    "# p_value < 0.05 => alternative hypothesis:\n",
    "\n",
    "alpha_value = 0.05 # Level of significance\n",
    "print('Level of significance: %.2f' %alpha_value)\n",
    "print (\" p-value=\", p_value)\n",
    "if p_value < alpha_value: \n",
    "    print('We have evidence to reject the null hypothesis since p value < Level of significance')\n",
    "else:\n",
    "    print('We have no evidence to reject the null hypothesis since p value > Level of significance') \n",
    "\n"
   ]
  },
  {
   "cell_type": "markdown",
   "id": "79d86f57",
   "metadata": {
    "id": "h1-_8Mi2EYIU"
   },
   "source": [
    "Since p-value of the test is small, we reject the null hypothesis that the Dentist follows the normal distribution."
   ]
  },
  {
   "cell_type": "markdown",
   "id": "db03c983",
   "metadata": {
    "id": "RN7l8dkREpFu"
   },
   "source": [
    "### Levene’s test\n",
    "\n",
    "We will test the null hypothesis\n",
    "\n",
    ">$H_0$: All the population variances are equal\n",
    "\n",
    "against the alternative hypothesis\n",
    "\n",
    ">$H_a$: At least one variance is different from the rest"
   ]
  },
  {
   "cell_type": "markdown",
   "id": "79a590b9",
   "metadata": {
    "id": "HFLWddyCaZjn"
   },
   "source": [
    "The [`levene()`](https://docs.scipy.org/doc/scipy/reference/generated/scipy.stats.shapiro.html) function of Scipy will be used to compute the test statistic and p-value."
   ]
  },
  {
   "cell_type": "code",
   "execution_count": 38,
   "id": "e71c6362",
   "metadata": {
    "colab": {
     "base_uri": "https://localhost:8080/"
    },
    "id": "Jj-jsFGTFKtI",
    "outputId": "b6247937-9127-4bbe-c677-b78eaf5652ce"
   },
   "outputs": [
    {
     "name": "stdout",
     "output_type": "stream",
     "text": [
      "The p-value is 0.007858817382355401\n"
     ]
    }
   ],
   "source": [
    "#Assumption 2: Homogeneity of Variance\n",
    "#import the required function\n",
    "from scipy.stats import levene\n",
    "statistic, p_value = levene(dental_df['Response'][dental_df['Dentist']==1], \n",
    "                                   dental_df['Response'][dental_df['Dentist']==2],\n",
    "                            dental_df['Response'][dental_df['Dentist']==3],\n",
    "                           dental_df['Response'][dental_df['Dentist']==4],\n",
    "                           dental_df['Response'][dental_df['Dentist']==5],)\n",
    "# find the p-value\n",
    "print('The p-value is', p_value)"
   ]
  },
  {
   "cell_type": "code",
   "execution_count": 39,
   "id": "bd9e46e2",
   "metadata": {
    "scrolled": false
   },
   "outputs": [
    {
     "name": "stdout",
     "output_type": "stream",
     "text": [
      "Level of significance: 0.05\n",
      " p-value= 0.007858817382355401\n",
      "We have evidence to reject the null hypothesis since p value < Level of significance\n"
     ]
    }
   ],
   "source": [
    "# p_value < 0.05 => alternative hypothesis:\n",
    "\n",
    "alpha_value = 0.05 # Level of significance\n",
    "print('Level of significance: %.2f' %alpha_value)\n",
    "print (\" p-value=\", p_value)\n",
    "if p_value < alpha_value: \n",
    "    print('We have evidence to reject the null hypothesis since p value < Level of significance')\n",
    "else:\n",
    "    print('We have no evidence to reject the null hypothesis since p value > Level of significance') \n",
    "\n"
   ]
  },
  {
   "cell_type": "markdown",
   "id": "0b421b60",
   "metadata": {
    "id": "kvMMknJDq_LU"
   },
   "source": [
    "### Let's test whether the assumptions are satisfied or not\n",
    "\n",
    "* The populations are normally distributed - No, the normality assumption can not be verified using the Shapiro-Wilk’s test.\n",
    "* Samples are independent simple random samples - Yes, we are informed that the collected sample is a simple random sample.\n",
    "* Population variances are equal - No, the homogeneity of variance assumption can not be verified using the Levene's test.\n",
    "\n"
   ]
  },
  {
   "cell_type": "markdown",
   "id": "2d0c48c0",
   "metadata": {
    "id": "v6NjQ3iCF7tj"
   },
   "source": [
    "Since the p-value is small, we reject the null hypothesis of homogeneity of variances."
   ]
  },
  {
   "cell_type": "markdown",
   "id": "146decab",
   "metadata": {
    "id": "mXyl5ApFr6zU"
   },
   "source": [
    "### Let's find the p-value"
   ]
  },
  {
   "cell_type": "markdown",
   "id": "b5cff592",
   "metadata": {
    "id": "hnbFqxaxbPL8"
   },
   "source": [
    "The [`f_oneway()`](https://docs.scipy.org/doc/scipy/reference/generated/scipy.stats.f_oneway.html) function of Scipy will be used to compute the test statistic and p-value."
   ]
  },
  {
   "cell_type": "code",
   "execution_count": 40,
   "id": "64b83e72",
   "metadata": {
    "colab": {
     "base_uri": "https://localhost:8080/"
    },
    "id": "HRjKGT13ryta",
    "outputId": "833aa1ea-cacd-4383-cac0-d463e585fc9c"
   },
   "outputs": [
    {
     "name": "stdout",
     "output_type": "stream",
     "text": [
      "The p-value is 0.11206595023098852\n"
     ]
    }
   ],
   "source": [
    "#import the required function\n",
    "from scipy.stats import f_oneway\n",
    "\n",
    "# perform one-way anova test\n",
    "test_stat, p_value = f_oneway(dental_df.loc[dental_df['Dentist']==1,\"Response\"],\n",
    "                            dental_df.loc[dental_df['Dentist']==2,\"Response\"],\n",
    "                             dental_df.loc[dental_df['Dentist']==3,\"Response\"],\n",
    "                             dental_df.loc[dental_df['Dentist']==4,\"Response\"],\n",
    "                             dental_df.loc[dental_df['Dentist']==5,\"Response\"])\n",
    "print('The p-value is ' + str(p_value))"
   ]
  },
  {
   "cell_type": "code",
   "execution_count": 41,
   "id": "e3a6d15d",
   "metadata": {
    "scrolled": false
   },
   "outputs": [
    {
     "name": "stdout",
     "output_type": "stream",
     "text": [
      "Level of significance: 0.05\n",
      " p-value= 0.11206595023098852\n",
      "We have no evidence to reject the null hypothesis since p value > Level of significance\n"
     ]
    }
   ],
   "source": [
    "# p_value < 0.05 => alternative hypothesis:\n",
    "\n",
    "alpha_value = 0.05 # Level of significance\n",
    "print('Level of significance: %.2f' %alpha_value)\n",
    "print (\" p-value=\", p_value)\n",
    "if p_value < alpha_value: \n",
    "    print('We have evidence to reject the null hypothesis since p value < Level of significance')\n",
    "else:\n",
    "    print('We have no evidence to reject the null hypothesis since p value > Level of significance') \n",
    "\n"
   ]
  },
  {
   "cell_type": "markdown",
   "id": "598600f1",
   "metadata": {
    "id": "m4Zat_fyvV3j"
   },
   "source": [
    "### Insight\n",
    "As the p-value is much less than the significance level, we fail to reject the null hypothesis. Hence, we have have enough statistical significance to conclude that  all Dentist have same response at 5% significance level.\n",
    "\n"
   ]
  },
  {
   "cell_type": "code",
   "execution_count": null,
   "id": "f43550dd",
   "metadata": {},
   "outputs": [],
   "source": []
  },
  {
   "cell_type": "code",
   "execution_count": 42,
   "id": "d11f1b65",
   "metadata": {
    "scrolled": true
   },
   "outputs": [
    {
     "name": "stdout",
     "output_type": "stream",
     "text": [
      "              df         sum_sq       mean_sq         F    PR(>F)\n",
      "C(Dentist)   4.0  106683.688889  26670.922222  1.977112  0.116567\n",
      "Residual    40.0  539593.555556  13489.838889       NaN       NaN\n"
     ]
    }
   ],
   "source": [
    "formula = 'Response ~   C(Dentist) '\n",
    "model = ols(formula, alloy1_df).fit()\n",
    "aov_table = anova_lm(model)\n",
    "print(aov_table)"
   ]
  },
  {
   "cell_type": "code",
   "execution_count": 43,
   "id": "e70475b0",
   "metadata": {
    "scrolled": true
   },
   "outputs": [
    {
     "name": "stdout",
     "output_type": "stream",
     "text": [
      "              df        sum_sq       mean_sq         F    PR(>F)\n",
      "C(Dentist)   4.0  5.679791e+04  14199.477778  0.524835  0.718031\n",
      "Residual    40.0  1.082205e+06  27055.122222       NaN       NaN\n"
     ]
    }
   ],
   "source": [
    "formula = 'Response ~   C(Dentist) '\n",
    "model = ols(formula, alloy2_df).fit()\n",
    "aov_table = anova_lm(model)\n",
    "print(aov_table)"
   ]
  },
  {
   "cell_type": "code",
   "execution_count": 44,
   "id": "a5902e8a",
   "metadata": {
    "scrolled": true
   },
   "outputs": [
    {
     "name": "stdout",
     "output_type": "stream",
     "text": [
      "              df        sum_sq       mean_sq         F    PR(>F)\n",
      "C(Dentist)   4.0  1.577946e+05  39448.638889  1.934537  0.112066\n",
      "Residual    85.0  1.733301e+06  20391.776471       NaN       NaN\n"
     ]
    }
   ],
   "source": [
    "formula = 'Response ~   C(Dentist) '\n",
    "model = ols(formula, dental_df).fit()\n",
    "aov_table = anova_lm(model)\n",
    "print(aov_table)"
   ]
  },
  {
   "cell_type": "markdown",
   "id": "88749eee",
   "metadata": {},
   "source": [
    "#### 4.2 How does the hardness of implants vary depending on methods?"
   ]
  },
  {
   "cell_type": "code",
   "execution_count": 45,
   "id": "696ce571",
   "metadata": {},
   "outputs": [],
   "source": [
    "dental_df.Method = pd.Categorical(dental_df.Method)"
   ]
  },
  {
   "cell_type": "code",
   "execution_count": 46,
   "id": "dcdb51d5",
   "metadata": {},
   "outputs": [
    {
     "data": {
      "text/plain": [
       "<bound method IndexOpsMixin.value_counts of 0     1\n",
       "1     1\n",
       "2     1\n",
       "3     1\n",
       "4     1\n",
       "     ..\n",
       "85    3\n",
       "86    3\n",
       "87    3\n",
       "88    3\n",
       "89    3\n",
       "Name: Method, Length: 90, dtype: category\n",
       "Categories (3, int64): [1, 2, 3]>"
      ]
     },
     "execution_count": 46,
     "metadata": {},
     "output_type": "execute_result"
    }
   ],
   "source": [
    "dental_df.Method.value_counts"
   ]
  },
  {
   "cell_type": "markdown",
   "id": "71b55b64",
   "metadata": {
    "id": "j63R8Uh78C-w"
   },
   "source": [
    "### Let's write the null and alternative hypothesis\n",
    "\n",
    "Let $\\mu_1, \\mu_2, \\mu_3$ be the means of Hardness of Implants for Methods 1,2,3 respectively.\n",
    "\n",
    "We will test the null hypothesis\n",
    "\n",
    ">$H_0: \\mu_1 = \\mu_2 = \\mu_3 $\n",
    "\n",
    "against the alternative hypothesis\n",
    "\n",
    ">$H_a: $ At least one Hardness of Implants level is different from the rest.\n"
   ]
  },
  {
   "cell_type": "code",
   "execution_count": 47,
   "id": "2a463c18",
   "metadata": {
    "colab": {
     "base_uri": "https://localhost:8080/",
     "height": 492
    },
    "id": "WE2FRb1a9Gxs",
    "outputId": "baa8c2ce-a8c5-45bb-e6cc-03cc334d5165"
   },
   "outputs": [
    {
     "name": "stdout",
     "output_type": "stream",
     "text": [
      "Method\n",
      "1    793.900000\n",
      "2    804.333333\n",
      "3    627.100000\n",
      "Name: Response, dtype: float64\n"
     ]
    },
    {
     "data": {
      "image/png": "[encoded data removed]",
      "text/plain": [
       "<Figure size 600x600 with 1 Axes>"
      ]
     },
     "metadata": {},
     "output_type": "display_data"
    }
   ],
   "source": [
    "# mean of hardness of Implants at different levels of the Method factor\n",
    "print(dental_df.groupby(\"Method\")[\"Response\"].mean())\n",
    "\n",
    "# draw the boxplot for visualization \n",
    "fig, ax = plt.subplots(figsize = (6,6))\n",
    "a = sns.boxplot(x= \"Method\", y = 'Response' , data = dental_df, hue = 'Method')\n",
    "a.set_title(\"Response w.r.t. Method (3 levels)\", fontsize=15)\n",
    "plt.show()"
   ]
  },
  {
   "cell_type": "markdown",
   "id": "45cfa7a1",
   "metadata": {
    "id": "_pFdvUuGC6qu"
   },
   "source": [
    "### Shapiro-Wilk’s test\n",
    "\n",
    "We will test the null hypothesis\n",
    "\n",
    ">$H_0:$ Method follows a normal distribution \n",
    "\n",
    "against the alternative hypothesis\n",
    "\n",
    ">$H_a:$ Method does not follow a normal distribution"
   ]
  },
  {
   "cell_type": "code",
   "execution_count": 48,
   "id": "153eeb07",
   "metadata": {
    "colab": {
     "base_uri": "https://localhost:8080/"
    },
    "id": "yHZdbI6hClTY",
    "outputId": "43d972c7-63e0-4376-947a-2e22bacfb23a"
   },
   "outputs": [
    {
     "name": "stdout",
     "output_type": "stream",
     "text": [
      "The p-value is 6.475901481728386e-10\n"
     ]
    }
   ],
   "source": [
    "# Assumption 1: Normality\n",
    "# import the required function\n",
    "from scipy import stats\n",
    "\n",
    "# find the p-value\n",
    "w, p_value = stats.shapiro(dental_df.Method) \n",
    "print('The p-value is', p_value)"
   ]
  },
  {
   "cell_type": "code",
   "execution_count": 49,
   "id": "0574f983",
   "metadata": {
    "scrolled": false
   },
   "outputs": [
    {
     "name": "stdout",
     "output_type": "stream",
     "text": [
      "Level of significance: 0.05\n",
      " p-value= 6.475901481728386e-10\n",
      "We have evidence to reject the null hypothesis since p value < Level of significance\n"
     ]
    }
   ],
   "source": [
    "# p_value < 0.05 => alternative hypothesis:\n",
    "\n",
    "alpha_value = 0.05 # Level of significance\n",
    "print('Level of significance: %.2f' %alpha_value)\n",
    "print (\" p-value=\", p_value)\n",
    "if p_value < alpha_value: \n",
    "    print('We have evidence to reject the null hypothesis since p value < Level of significance')\n",
    "else:\n",
    "    print('We have no evidence to reject the null hypothesis since p value > Level of significance') \n",
    "\n"
   ]
  },
  {
   "cell_type": "markdown",
   "id": "f178c00b",
   "metadata": {
    "id": "h1-_8Mi2EYIU"
   },
   "source": [
    "Since p-value of the test is small, we reject the null hypothesis that the response follows the normal distribution."
   ]
  },
  {
   "cell_type": "markdown",
   "id": "3e879d18",
   "metadata": {
    "id": "RN7l8dkREpFu"
   },
   "source": [
    "### Levene’s test\n",
    "\n",
    "We will test the null hypothesis\n",
    "\n",
    ">$H_0$: All the population variances are equal\n",
    "\n",
    "against the alternative hypothesis\n",
    "\n",
    ">$H_a$: At least one variance is different from the rest"
   ]
  },
  {
   "cell_type": "markdown",
   "id": "c13f6ed4",
   "metadata": {
    "id": "HFLWddyCaZjn"
   },
   "source": [
    "The [`levene()`](https://docs.scipy.org/doc/scipy/reference/generated/scipy.stats.shapiro.html) function of Scipy will be used to compute the test statistic and p-value."
   ]
  },
  {
   "cell_type": "code",
   "execution_count": 50,
   "id": "8e802713",
   "metadata": {
    "colab": {
     "base_uri": "https://localhost:8080/"
    },
    "id": "Jj-jsFGTFKtI",
    "outputId": "b6247937-9127-4bbe-c677-b78eaf5652ce"
   },
   "outputs": [
    {
     "name": "stdout",
     "output_type": "stream",
     "text": [
      "The p-value is 0.004138452940152019\n"
     ]
    }
   ],
   "source": [
    "#Assumption 2: Homogeneity of Variance\n",
    "#import the required function\n",
    "from scipy.stats import levene\n",
    "statistic, p_value = levene(dental_df['Response'][dental_df['Method']==1], \n",
    "                                   dental_df['Response'][dental_df['Method']==2],\n",
    "                            dental_df['Response'][dental_df['Method']==3])\n",
    "# find the p-value\n",
    "print('The p-value is', p_value)"
   ]
  },
  {
   "cell_type": "code",
   "execution_count": 51,
   "id": "e0166f6d",
   "metadata": {
    "scrolled": false
   },
   "outputs": [
    {
     "name": "stdout",
     "output_type": "stream",
     "text": [
      "Level of significance: 0.05\n",
      " p-value= 0.004138452940152019\n",
      "We have evidence to reject the null hypothesis since p value < Level of significance\n"
     ]
    }
   ],
   "source": [
    "# p_value < 0.05 => alternative hypothesis:\n",
    "\n",
    "alpha_value = 0.05 # Level of significance\n",
    "print('Level of significance: %.2f' %alpha_value)\n",
    "print (\" p-value=\", p_value)\n",
    "if p_value < alpha_value: \n",
    "    print('We have evidence to reject the null hypothesis since p value < Level of significance')\n",
    "else:\n",
    "    print('We have no evidence to reject the null hypothesis since p value > Level of significance') \n",
    "\n"
   ]
  },
  {
   "cell_type": "markdown",
   "id": "ecced2cd",
   "metadata": {
    "id": "v6NjQ3iCF7tj"
   },
   "source": [
    "Since the p-value is small, we reject the null hypothesis of homogeneity of variances."
   ]
  },
  {
   "cell_type": "markdown",
   "id": "a0345dee",
   "metadata": {
    "id": "kvMMknJDq_LU"
   },
   "source": [
    "### Let's test whether the assumptions are satisfied or not\n",
    "\n",
    "* The populations are normally distributed - No, the normality assumption can not be verified using the Shapiro-Wilk’s test.\n",
    "* Samples are independent simple random samples - Yes, we are informed that the collected sample is a simple random sample.\n",
    "* Population variances are equal - No, the homogeneity of variance assumption can not be verified using the Levene's test.\n",
    "\n"
   ]
  },
  {
   "cell_type": "markdown",
   "id": "6503dd20",
   "metadata": {
    "id": "mXyl5ApFr6zU"
   },
   "source": [
    "### Let's find the p-value"
   ]
  },
  {
   "cell_type": "markdown",
   "id": "716c403a",
   "metadata": {
    "id": "hnbFqxaxbPL8"
   },
   "source": [
    "The [`f_oneway()`](https://docs.scipy.org/doc/scipy/reference/generated/scipy.stats.f_oneway.html) function of Scipy will be used to compute the test statistic and p-value."
   ]
  },
  {
   "cell_type": "code",
   "execution_count": 52,
   "id": "ece2f6f9",
   "metadata": {
    "colab": {
     "base_uri": "https://localhost:8080/"
    },
    "id": "HRjKGT13ryta",
    "outputId": "833aa1ea-cacd-4383-cac0-d463e585fc9c"
   },
   "outputs": [
    {
     "name": "stdout",
     "output_type": "stream",
     "text": [
      "The p-value is 7.683891892977992e-08\n"
     ]
    }
   ],
   "source": [
    "#import the required function\n",
    "from scipy.stats import f_oneway\n",
    "\n",
    "# perform one-way anova test\n",
    "test_stat, p_value = f_oneway(dental_df.loc[dental_df['Method']==1,\"Response\"],\n",
    "                            dental_df.loc[dental_df['Method']==2,\"Response\"],\n",
    "                             dental_df.loc[dental_df['Method']==3,\"Response\"])\n",
    "print('The p-value is ' + str(p_value))"
   ]
  },
  {
   "cell_type": "code",
   "execution_count": 53,
   "id": "081c5f10",
   "metadata": {
    "scrolled": false
   },
   "outputs": [
    {
     "name": "stdout",
     "output_type": "stream",
     "text": [
      "Level of significance: 0.05\n",
      " p-value= 7.683891892977992e-08\n",
      "We have evidence to reject the null hypothesis since p value < Level of significance\n"
     ]
    }
   ],
   "source": [
    "# p_value < 0.05 => alternative hypothesis:\n",
    "\n",
    "alpha_value = 0.05 # Level of significance\n",
    "print('Level of significance: %.2f' %alpha_value)\n",
    "print (\" p-value=\", p_value)\n",
    "if p_value < alpha_value: \n",
    "    print('We have evidence to reject the null hypothesis since p value < Level of significance')\n",
    "else:\n",
    "    print('We have no evidence to reject the null hypothesis since p value > Level of significance') \n",
    "\n"
   ]
  },
  {
   "cell_type": "markdown",
   "id": "5679b5b9",
   "metadata": {
    "id": "m4Zat_fyvV3j"
   },
   "source": [
    "### Insight\n",
    "As the p-value is much less than the significance level, we can reject the null hypothesis. Hence, we do have enough statistical significance to conclude that  at least one Method  is different from the rest at 5% significance level.\n",
    "\n",
    "However, we don't know which mean is different from the rest or whether all pairs of means are different. Multiple comparison tests are used to test the differences between all pairs of means.\n"
   ]
  },
  {
   "cell_type": "markdown",
   "id": "f0d4339a",
   "metadata": {
    "id": "lb7fV6waiIb8"
   },
   "source": [
    "### Multiple Comparison test (Tukey HSD)"
   ]
  },
  {
   "cell_type": "markdown",
   "id": "5666bef5",
   "metadata": {
    "id": "3_E5MHuMSwSC"
   },
   "source": [
    "\n",
    "In order to identify for which method mean hardness of implants is different from other groups, the null hypothesis is\n",
    "\n",
    "  > $𝐻_0: 𝜇_1=𝜇_2 \\text{ and } 𝜇_1=𝜇_3 \\text{ and } 𝜇_2=𝜇_3$\n",
    "\n",
    "against the alternative hypothesis\n",
    "\n",
    " > $𝐻_a: 𝜇_1\\neq𝜇_2 \\text{ or } 𝜇_1\\neq𝜇_3 \\text{ or } 𝜇_2\\neq𝜇_3$"
   ]
  },
  {
   "cell_type": "markdown",
   "id": "36b42633",
   "metadata": {
    "id": "hYiPdiMobwVX"
   },
   "source": [
    "The [`pairwise_tukeyhsd()`](https://www.statsmodels.org/dev/generated/statsmodels.stats.multicomp.pairwise_tukeyhsd.html) function of Statsmodels will be used to compute the test statistic and p-value."
   ]
  },
  {
   "cell_type": "code",
   "execution_count": 54,
   "id": "d8d0000f",
   "metadata": {
    "id": "z5MQ4yAxSwSC",
    "outputId": "9fbd01fb-966b-4b0d-da2b-5394a78203fe",
    "scrolled": true
   },
   "outputs": [
    {
     "name": "stdout",
     "output_type": "stream",
     "text": [
      "   Multiple Comparison of Means - Tukey HSD, FWER=0.05   \n",
      "=========================================================\n",
      "group1 group2  meandiff p-adj    lower     upper   reject\n",
      "---------------------------------------------------------\n",
      "     1      2   10.4333 0.9415  -64.7584   85.6251  False\n",
      "     1      3    -166.8    0.0 -241.9917  -91.6083   True\n",
      "     2      3 -177.2333    0.0 -252.4251 -102.0416   True\n",
      "---------------------------------------------------------\n"
     ]
    }
   ],
   "source": [
    "#import the required function\n",
    "from statsmodels.stats.multicomp import pairwise_tukeyhsd\n",
    "\n",
    "# perform multiple pairwise comparison (Tukey HSD)\n",
    "m_comp = pairwise_tukeyhsd(endog = dental_df['Response'], groups = dental_df['Method'], alpha = 0.05)\n",
    "print(m_comp)"
   ]
  },
  {
   "cell_type": "markdown",
   "id": "04fb9061",
   "metadata": {
    "id": "96o4N-COSwSD"
   },
   "source": [
    "### Insight\n",
    "\n",
    "As the p-values (refer to the p-adj column) for comparing the mean Hardness Implants for the pair 1-3 and 2-3 is less than the significance level, the null hypothesis of equality of all population means can be rejected.\n",
    "\n",
    "Thus, we can say that the mean Hardness of Implants for Methods 1 and 2 is similar but Hardness of Implants for Method 3 is significantly different from 1 and 2."
   ]
  },
  {
   "cell_type": "code",
   "execution_count": null,
   "id": "dc0e099b",
   "metadata": {},
   "outputs": [],
   "source": []
  },
  {
   "cell_type": "code",
   "execution_count": 55,
   "id": "f15b1541",
   "metadata": {
    "scrolled": true
   },
   "outputs": [
    {
     "name": "stdout",
     "output_type": "stream",
     "text": [
      "             df         sum_sq       mean_sq         F    PR(>F)\n",
      "C(Method)   2.0  148472.177778  74236.088889  6.263327  0.004163\n",
      "Residual   42.0  497805.066667  11852.501587       NaN       NaN\n"
     ]
    }
   ],
   "source": [
    "formula = 'Response ~ C(Method) '\n",
    "model = ols(formula, alloy1_df).fit()\n",
    "aov_table = anova_lm(model)\n",
    "print(aov_table)"
   ]
  },
  {
   "cell_type": "code",
   "execution_count": 56,
   "id": "701ca9d1",
   "metadata": {
    "scrolled": false
   },
   "outputs": [
    {
     "name": "stdout",
     "output_type": "stream",
     "text": [
      "             df    sum_sq        mean_sq        F    PR(>F)\n",
      "C(Method)   2.0  499640.4  249820.200000  16.4108  0.000005\n",
      "Residual   42.0  639362.4   15222.914286      NaN       NaN\n"
     ]
    }
   ],
   "source": [
    "formula = 'Response ~ C(Method) '\n",
    "model = ols(formula, alloy2_df).fit()\n",
    "aov_table = anova_lm(model)\n",
    "print(aov_table)"
   ]
  },
  {
   "cell_type": "code",
   "execution_count": 57,
   "id": "13bc151c",
   "metadata": {
    "scrolled": true
   },
   "outputs": [
    {
     "name": "stdout",
     "output_type": "stream",
     "text": [
      "             df        sum_sq        mean_sq         F        PR(>F)\n",
      "C(Method)   2.0  5.934275e+05  296713.744444  19.89268  7.683892e-08\n",
      "Residual   87.0  1.297668e+06   14915.724904       NaN           NaN\n"
     ]
    }
   ],
   "source": [
    "formula = 'Response ~ C(Method) '\n",
    "model = ols(formula, dental_df).fit()\n",
    "aov_table = anova_lm(model)\n",
    "print(aov_table)"
   ]
  },
  {
   "cell_type": "markdown",
   "id": "4a897f08",
   "metadata": {},
   "source": [
    "#### 4.3 What is the interaction effect between the dentist and method on the hardness of dental implants for each type of alloy?"
   ]
  },
  {
   "cell_type": "code",
   "execution_count": 58,
   "id": "4c240f5c",
   "metadata": {},
   "outputs": [
    {
     "data": {
      "text/plain": [
       "<Axes: xlabel='Dentist', ylabel='Response'>"
      ]
     },
     "execution_count": 58,
     "metadata": {},
     "output_type": "execute_result"
    },
    {
     "data": {
      "image/png": "[encoded data removed]",
      "text/plain": [
       "<Figure size 640x480 with 1 Axes>"
      ]
     },
     "metadata": {},
     "output_type": "display_data"
    }
   ],
   "source": [
    "sns.pointplot(x='Dentist', y='Response', data=alloy1_df, hue='Method')"
   ]
  },
  {
   "cell_type": "code",
   "execution_count": 59,
   "id": "c2a484b1",
   "metadata": {
    "scrolled": true
   },
   "outputs": [
    {
     "data": {
      "text/plain": [
       "<Axes: xlabel='Dentist', ylabel='Response'>"
      ]
     },
     "execution_count": 59,
     "metadata": {},
     "output_type": "execute_result"
    },
    {
     "data": {
      "image/png": "[encoded data removed]",
      "text/plain": [
       "<Figure size 640x480 with 1 Axes>"
      ]
     },
     "metadata": {},
     "output_type": "display_data"
    }
   ],
   "source": [
    "sns.pointplot(x='Dentist', y='Response', data=alloy2_df, hue='Method')"
   ]
  },
  {
   "cell_type": "markdown",
   "id": "4ccde6ba",
   "metadata": {},
   "source": [
    "#### 4.4 How does the hardness of implants vary depending on dentists and methods together?"
   ]
  },
  {
   "cell_type": "code",
   "execution_count": 60,
   "id": "8b624b77",
   "metadata": {},
   "outputs": [
    {
     "name": "stdout",
     "output_type": "stream",
     "text": [
      "Dentist  Method\n",
      "1        1         821.833333\n",
      "         2         827.500000\n",
      "         3         699.833333\n",
      "2        1         829.666667\n",
      "         2         807.666667\n",
      "         3         722.666667\n",
      "3        1         744.333333\n",
      "         2         770.333333\n",
      "         3         731.166667\n",
      "4        1         772.000000\n",
      "         2         814.166667\n",
      "         3         554.833333\n",
      "5        1         801.666667\n",
      "         2         802.000000\n",
      "         3         427.000000\n",
      "Name: Response, dtype: float64\n"
     ]
    }
   ],
   "source": [
    "# mean of hardness of Implants at different levels of the Method factor\n",
    "print(dental_df.groupby([\"Dentist\",\"Method\"])[\"Response\"].mean())"
   ]
  },
  {
   "cell_type": "code",
   "execution_count": 61,
   "id": "33ca4b1b",
   "metadata": {
    "colab": {
     "base_uri": "https://localhost:8080/",
     "height": 492
    },
    "id": "WE2FRb1a9Gxs",
    "outputId": "baa8c2ce-a8c5-45bb-e6cc-03cc334d5165"
   },
   "outputs": [
    {
     "data": {
      "image/png": "[encoded data removed]",
      "text/plain": [
       "<Figure size 600x600 with 1 Axes>"
      ]
     },
     "metadata": {},
     "output_type": "display_data"
    }
   ],
   "source": [
    "\n",
    "\n",
    "\n",
    "# draw the boxplot for visualization \n",
    "fig, ax = plt.subplots(figsize = (6,6))\n",
    "a = sns.boxplot(x= \"Dentist\", y = 'Response' , data = dental_df, hue = 'Method')\n",
    "a.set_title(\"Response w.r.t. Dentist and Method \", fontsize=15)\n",
    "plt.show()"
   ]
  },
  {
   "cell_type": "markdown",
   "id": "62e05f4c",
   "metadata": {
    "id": "_pFdvUuGC6qu"
   },
   "source": [
    "### Shapiro-Wilk’s test\n",
    "\n",
    "We will test the null hypothesis\n",
    "\n",
    ">$H_0:$ Hardness of implants follows a normal distribution \n",
    "\n",
    "against the alternative hypothesis\n",
    "\n",
    ">$H_a:$ Hardness of implants does not follow a normal distribution"
   ]
  },
  {
   "cell_type": "code",
   "execution_count": 62,
   "id": "1b0a1c59",
   "metadata": {
    "colab": {
     "base_uri": "https://localhost:8080/"
    },
    "id": "yHZdbI6hClTY",
    "outputId": "43d972c7-63e0-4376-947a-2e22bacfb23a"
   },
   "outputs": [
    {
     "name": "stdout",
     "output_type": "stream",
     "text": [
      "The p-value is 8.080212865024805e-06\n"
     ]
    }
   ],
   "source": [
    "# Assumption 1: Normality\n",
    "# import the required function\n",
    "from scipy import stats\n",
    "\n",
    "# find the p-value\n",
    "w, p_value = stats.shapiro(dental_df.Response) \n",
    "print('The p-value is', p_value)"
   ]
  },
  {
   "cell_type": "code",
   "execution_count": 63,
   "id": "68ed265a",
   "metadata": {
    "scrolled": false
   },
   "outputs": [
    {
     "name": "stdout",
     "output_type": "stream",
     "text": [
      "Level of significance: 0.05\n",
      " p-value= 8.080212865024805e-06\n",
      "We have evidence to reject the null hypothesis since p value < Level of significance\n"
     ]
    }
   ],
   "source": [
    "# p_value < 0.05 => alternative hypothesis:\n",
    "\n",
    "alpha_value = 0.05 # Level of significance\n",
    "print('Level of significance: %.2f' %alpha_value)\n",
    "print (\" p-value=\", p_value)\n",
    "if p_value < alpha_value: \n",
    "    print('We have evidence to reject the null hypothesis since p value < Level of significance')\n",
    "else:\n",
    "    print('We have no evidence to reject the null hypothesis since p value > Level of significance') \n",
    "\n"
   ]
  },
  {
   "cell_type": "markdown",
   "id": "83960960",
   "metadata": {
    "id": "h1-_8Mi2EYIU"
   },
   "source": [
    "Since p-value of the test is small, we reject the null hypothesis that the response follows the normal distribution."
   ]
  },
  {
   "cell_type": "markdown",
   "id": "95bbf524",
   "metadata": {
    "id": "RN7l8dkREpFu"
   },
   "source": [
    "### Levene’s test\n",
    "\n",
    "We will test the null hypothesis\n",
    "\n",
    ">$H_0$: All the population variances are equal\n",
    "\n",
    "against the alternative hypothesis\n",
    "\n",
    ">$H_a$: At least one variance is different from the rest"
   ]
  },
  {
   "cell_type": "markdown",
   "id": "276d17a7",
   "metadata": {
    "id": "HFLWddyCaZjn"
   },
   "source": [
    "The [`levene()`](https://docs.scipy.org/doc/scipy/reference/generated/scipy.stats.shapiro.html) function of Scipy will be used to compute the test statistic and p-value."
   ]
  },
  {
   "cell_type": "code",
   "execution_count": 64,
   "id": "e01b20c7",
   "metadata": {
    "colab": {
     "base_uri": "https://localhost:8080/"
    },
    "id": "Jj-jsFGTFKtI",
    "outputId": "b6247937-9127-4bbe-c677-b78eaf5652ce"
   },
   "outputs": [
    {
     "name": "stdout",
     "output_type": "stream",
     "text": [
      "The p-value is 0.003863706288294136\n"
     ]
    }
   ],
   "source": [
    "#Assumption 2: Homogeneity of Variance\n",
    "#import the required function\n",
    "from scipy.stats import levene\n",
    "statistic, p_value = levene(dental_df['Response'][dental_df['Method']==1][dental_df['Dentist']==1], \n",
    "                                   dental_df['Response'][dental_df['Method']==2][dental_df['Dentist']==1],\n",
    "                            dental_df['Response'][dental_df['Method']==3][dental_df['Dentist']==1],\n",
    "                            dental_df['Response'][dental_df['Method']==1][dental_df['Dentist']==2], \n",
    "                                   dental_df['Response'][dental_df['Method']==2][dental_df['Dentist']==2],\n",
    "                            dental_df['Response'][dental_df['Method']==3][dental_df['Dentist']==2],\n",
    "                            dental_df['Response'][dental_df['Method']==1][dental_df['Dentist']==3], \n",
    "                                   dental_df['Response'][dental_df['Method']==2][dental_df['Dentist']==3],\n",
    "                            dental_df['Response'][dental_df['Method']==3][dental_df['Dentist']==3],\n",
    "                            dental_df['Response'][dental_df['Method']==1][dental_df['Dentist']==4], \n",
    "                                   dental_df['Response'][dental_df['Method']==2][dental_df['Dentist']==4],\n",
    "                            dental_df['Response'][dental_df['Method']==3][dental_df['Dentist']==4],\n",
    "                            dental_df['Response'][dental_df['Method']==1][dental_df['Dentist']==5], \n",
    "                                   dental_df['Response'][dental_df['Method']==2][dental_df['Dentist']==5],\n",
    "                            dental_df['Response'][dental_df['Method']==3][dental_df['Dentist']==5])\n",
    "# find the p-value\n",
    "print('The p-value is', p_value)"
   ]
  },
  {
   "cell_type": "code",
   "execution_count": 65,
   "id": "fd4eb53e",
   "metadata": {
    "scrolled": false
   },
   "outputs": [
    {
     "name": "stdout",
     "output_type": "stream",
     "text": [
      "Level of significance: 0.05\n",
      " p-value= 0.003863706288294136\n",
      "We have evidence to reject the null hypothesis since p value < Level of significance\n"
     ]
    }
   ],
   "source": [
    "# p_value < 0.05 => alternative hypothesis:\n",
    "\n",
    "alpha_value = 0.05 # Level of significance\n",
    "print('Level of significance: %.2f' %alpha_value)\n",
    "print (\" p-value=\", p_value)\n",
    "if p_value < alpha_value: \n",
    "    print('We have evidence to reject the null hypothesis since p value < Level of significance')\n",
    "else:\n",
    "    print('We have no evidence to reject the null hypothesis since p value > Level of significance') \n",
    "\n"
   ]
  },
  {
   "cell_type": "markdown",
   "id": "43ddf994",
   "metadata": {
    "id": "v6NjQ3iCF7tj"
   },
   "source": [
    "Since the p-value is small, we reject the null hypothesis of homogeneity of variances."
   ]
  },
  {
   "cell_type": "markdown",
   "id": "4d6c694f",
   "metadata": {
    "id": "kvMMknJDq_LU"
   },
   "source": [
    "### Let's test whether the assumptions are satisfied or not\n",
    "\n",
    "* The populations are normally distributed - No, the normality assumption can not be verified using the Shapiro-Wilk’s test.\n",
    "* Samples are independent simple random samples - Yes, we are informed that the collected sample is a simple random sample.\n",
    "* Population variances are equal - No, the homogeneity of variance assumption can not be verified using the Levene's test.\n",
    "\n"
   ]
  },
  {
   "cell_type": "markdown",
   "id": "d601263b",
   "metadata": {
    "id": "mXyl5ApFr6zU"
   },
   "source": [
    "### Let's find the p-value"
   ]
  },
  {
   "cell_type": "markdown",
   "id": "06d09fa6",
   "metadata": {
    "id": "hnbFqxaxbPL8"
   },
   "source": [
    "The [`f_oneway()`](https://docs.scipy.org/doc/scipy/reference/generated/scipy.stats.f_oneway.html) function of Scipy will be used to compute the test statistic and p-value."
   ]
  },
  {
   "cell_type": "code",
   "execution_count": 66,
   "id": "5f500d6c",
   "metadata": {
    "scrolled": true
   },
   "outputs": [
    {
     "name": "stdout",
     "output_type": "stream",
     "text": [
      "<class 'pandas.core.frame.DataFrame'>\n",
      "RangeIndex: 90 entries, 0 to 89\n",
      "Data columns (total 5 columns):\n",
      " #   Column    Non-Null Count  Dtype   \n",
      "---  ------    --------------  -----   \n",
      " 0   Dentist   90 non-null     category\n",
      " 1   Method    90 non-null     category\n",
      " 2   Alloy     90 non-null     category\n",
      " 3   Temp      90 non-null     int64   \n",
      " 4   Response  90 non-null     int64   \n",
      "dtypes: category(3), int64(2)\n",
      "memory usage: 2.3 KB\n"
     ]
    }
   ],
   "source": [
    "dental_df.info()"
   ]
  },
  {
   "cell_type": "code",
   "execution_count": 67,
   "id": "7c141455",
   "metadata": {},
   "outputs": [
    {
     "data": {
      "text/plain": [
       "count     90\n",
       "unique     3\n",
       "top        1\n",
       "freq      30\n",
       "Name: Method, dtype: int64"
      ]
     },
     "execution_count": 67,
     "metadata": {},
     "output_type": "execute_result"
    }
   ],
   "source": [
    "dental_df['Method'].describe()\n"
   ]
  },
  {
   "cell_type": "code",
   "execution_count": null,
   "id": "f4103190",
   "metadata": {},
   "outputs": [],
   "source": []
  },
  {
   "cell_type": "code",
   "execution_count": 68,
   "id": "41636b7b",
   "metadata": {
    "colab": {
     "base_uri": "https://localhost:8080/"
    },
    "id": "HRjKGT13ryta",
    "outputId": "833aa1ea-cacd-4383-cac0-d463e585fc9c"
   },
   "outputs": [
    {
     "name": "stdout",
     "output_type": "stream",
     "text": [
      "The p-value is 1.0319718890274577e-08\n"
     ]
    }
   ],
   "source": [
    "#import the required function\n",
    "from scipy.stats import f_oneway\n",
    "\n",
    "# perform one-way anova test\n",
    "\n",
    "test_stat, p_value = f_oneway(dental_df.loc[(pd.to_numeric(dental_df['Method']==1) & pd.to_numeric(dental_df['Dentist']==1)),\"Response\"],\n",
    "                            dental_df.loc[(pd.to_numeric(dental_df['Method']==2) & pd.to_numeric(dental_df['Dentist']==1)),\"Response\"],\n",
    "                             dental_df.loc[(pd.to_numeric(dental_df['Method']==3) & pd.to_numeric(dental_df['Dentist']==1)),\"Response\"],\n",
    "                              dental_df.loc[(pd.to_numeric(dental_df['Method']==1) & pd.to_numeric(dental_df['Dentist']==2)),\"Response\"],\n",
    "                            dental_df.loc[(pd.to_numeric(dental_df['Method']==2) & pd.to_numeric(dental_df['Dentist']==2)),\"Response\"],\n",
    "                             dental_df.loc[(pd.to_numeric(dental_df['Method']==3) & pd.to_numeric(dental_df['Dentist']==2)),\"Response\"],\n",
    "                              dental_df.loc[(pd.to_numeric(dental_df['Method']==1) & pd.to_numeric(dental_df['Dentist']==3)),\"Response\"],\n",
    "                            dental_df.loc[(pd.to_numeric(dental_df['Method']==2) & pd.to_numeric(dental_df['Dentist']==3)),\"Response\"],\n",
    "                             dental_df.loc[(pd.to_numeric(dental_df['Method']==3) & pd.to_numeric(dental_df['Dentist']==3)),\"Response\"],\n",
    "                              dental_df.loc[(pd.to_numeric(dental_df['Method']==1) & pd.to_numeric(dental_df['Dentist']==4)),\"Response\"],\n",
    "                            dental_df.loc[(pd.to_numeric(dental_df['Method']==2) & pd.to_numeric(dental_df['Dentist']==4)),\"Response\"],\n",
    "                             dental_df.loc[(pd.to_numeric(dental_df['Method']==3) & pd.to_numeric(dental_df['Dentist']==4)),\"Response\"],\n",
    "                              dental_df.loc[(pd.to_numeric(dental_df['Method']==1) & pd.to_numeric(dental_df['Dentist']==5)),\"Response\"],\n",
    "                            dental_df.loc[(pd.to_numeric(dental_df['Method']==2) & pd.to_numeric(dental_df['Dentist']==5)),\"Response\"],\n",
    "                             dental_df.loc[(pd.to_numeric(dental_df['Method']==3) & pd.to_numeric(dental_df['Dentist']==5)),\"Response\"],\n",
    "                             )\n",
    "print('The p-value is ' + str(p_value))"
   ]
  },
  {
   "cell_type": "code",
   "execution_count": 69,
   "id": "28716d7a",
   "metadata": {
    "scrolled": false
   },
   "outputs": [
    {
     "name": "stdout",
     "output_type": "stream",
     "text": [
      "Level of significance: 0.05\n",
      " p-value= 1.0319718890274577e-08\n",
      "We have evidence to reject the null hypothesis since p value < Level of significance\n"
     ]
    }
   ],
   "source": [
    "# p_value < 0.05 => alternative hypothesis:\n",
    "\n",
    "alpha_value = 0.05 # Level of significance\n",
    "print('Level of significance: %.2f' %alpha_value)\n",
    "print (\" p-value=\", p_value)\n",
    "if p_value < alpha_value: \n",
    "    print('We have evidence to reject the null hypothesis since p value < Level of significance')\n",
    "else:\n",
    "    print('We have no evidence to reject the null hypothesis since p value > Level of significance') \n",
    "\n"
   ]
  },
  {
   "cell_type": "markdown",
   "id": "ee429a7e",
   "metadata": {
    "id": "m4Zat_fyvV3j"
   },
   "source": [
    "### Insight\n",
    "As the p-value is much less than the significance level, we can reject the null hypothesis. Hence, we do have enough statistical significance to conclude that  at least one Method and Dentist is different from the rest at 5% significance level.\n",
    "\n",
    "However, we don't know which mean is different from the rest or whether all pairs of means are different. Multiple comparison tests are used to test the differences between all pairs of means.\n"
   ]
  },
  {
   "cell_type": "markdown",
   "id": "557e3ba2",
   "metadata": {
    "id": "lb7fV6waiIb8"
   },
   "source": [
    "### Multiple Comparison test (Tukey HSD)"
   ]
  },
  {
   "cell_type": "markdown",
   "id": "899668e3",
   "metadata": {
    "id": "3_E5MHuMSwSC"
   },
   "source": [
    "\n",
    "In order to identify for which fuel type mean carbon emission is different from other groups, the null hypothesis is\n",
    "\n",
    "  > $𝐻_0: 𝜇_1=𝜇_2 \\text{ and } 𝜇_1=𝜇_3 \\text{ and } 𝜇_2=𝜇_3$\n",
    "\n",
    "against the alternative hypothesis\n",
    "\n",
    " > $𝐻_a: 𝜇_1\\neq𝜇_2 \\text{ or } 𝜇_1\\neq𝜇_3 \\text{ or } 𝜇_2\\neq𝜇_3$"
   ]
  },
  {
   "cell_type": "markdown",
   "id": "f6ba282a",
   "metadata": {
    "id": "hYiPdiMobwVX"
   },
   "source": [
    "The [`pairwise_tukeyhsd()`](https://www.statsmodels.org/dev/generated/statsmodels.stats.multicomp.pairwise_tukeyhsd.html) function of Statsmodels will be used to compute the test statistic and p-value."
   ]
  },
  {
   "cell_type": "code",
   "execution_count": 70,
   "id": "87d70442",
   "metadata": {
    "id": "z5MQ4yAxSwSC",
    "outputId": "9fbd01fb-966b-4b0d-da2b-5394a78203fe",
    "scrolled": true
   },
   "outputs": [
    {
     "name": "stdout",
     "output_type": "stream",
     "text": [
      "Multiple Comparison of Means - Tukey HSD, FWER=0.05\n",
      "==================================================\n",
      "group1 group2 meandiff p-adj  lower  upper  reject\n",
      "--------------------------------------------------\n",
      "     1      2      0.0   1.0 -0.7806 0.7806  False\n",
      "     1      3      0.0   1.0 -0.7806 0.7806  False\n",
      "     1      4      0.0   1.0 -0.7806 0.7806  False\n",
      "     1      5      0.0   1.0 -0.7806 0.7806  False\n",
      "     2      3      0.0   1.0 -0.7806 0.7806  False\n",
      "     2      4      0.0   1.0 -0.7806 0.7806  False\n",
      "     2      5      0.0   1.0 -0.7806 0.7806  False\n",
      "     3      4      0.0   1.0 -0.7806 0.7806  False\n",
      "     3      5      0.0   1.0 -0.7806 0.7806  False\n",
      "     4      5      0.0   1.0 -0.7806 0.7806  False\n",
      "--------------------------------------------------\n"
     ]
    }
   ],
   "source": [
    "#import the required function\n",
    "from statsmodels.stats.multicomp import pairwise_tukeyhsd\n",
    "\n",
    "# perform multiple pairwise comparison (Tukey HSD)\n",
    "m_comp = pairwise_tukeyhsd(endog = dental_df['Method'], groups = dental_df['Dentist'], alpha = 0.05)\n",
    "print(m_comp)"
   ]
  },
  {
   "cell_type": "code",
   "execution_count": 71,
   "id": "97d4749c",
   "metadata": {},
   "outputs": [
    {
     "name": "stdout",
     "output_type": "stream",
     "text": [
      "                        df         sum_sq       mean_sq          F    PR(>F)\n",
      "C(Dentist)             4.0  106683.688889  26670.922222   3.899638  0.011484\n",
      "C(Method)              2.0  148472.177778  74236.088889  10.854287  0.000284\n",
      "C(Dentist):C(Method)   8.0  185941.377778  23242.672222   3.398383  0.006793\n",
      "Residual              30.0  205180.000000   6839.333333        NaN       NaN\n"
     ]
    }
   ],
   "source": [
    "\n",
    "formula = 'Response ~ C(Dentist) + C(Method) + C(Dentist) : C(Method)'\n",
    "model = ols(formula, alloy1_df).fit()\n",
    "aov_table = anova_lm(model)\n",
    "print(aov_table)"
   ]
  },
  {
   "cell_type": "code",
   "execution_count": 72,
   "id": "4eaaa989",
   "metadata": {},
   "outputs": [
    {
     "name": "stdout",
     "output_type": "stream",
     "text": [
      "                        df         sum_sq        mean_sq          F    PR(>F)\n",
      "C(Dentist)             4.0   56797.911111   14199.477778   1.106152  0.371833\n",
      "C(Method)              2.0  499640.400000  249820.200000  19.461218  0.000004\n",
      "C(Dentist):C(Method)   8.0  197459.822222   24682.477778   1.922787  0.093234\n",
      "Residual              30.0  385104.666667   12836.822222        NaN       NaN\n"
     ]
    }
   ],
   "source": [
    "\n",
    "formula = 'Response ~ C(Dentist) + C(Method) + C(Dentist) : C(Method)'\n",
    "model = ols(formula, alloy2_df).fit()\n",
    "aov_table = anova_lm(model)\n",
    "print(aov_table)"
   ]
  },
  {
   "cell_type": "code",
   "execution_count": 73,
   "id": "7b4b12d1",
   "metadata": {},
   "outputs": [
    {
     "name": "stdout",
     "output_type": "stream",
     "text": [
      "                        df         sum_sq        mean_sq          F  \\\n",
      "C(Dentist)             4.0  157794.555556   39448.638889   3.550086   \n",
      "C(Method)              2.0  593427.488889  296713.744444  26.702047   \n",
      "C(Dentist):C(Method)   8.0  306471.844444   38308.980556   3.447526   \n",
      "Residual              75.0  833401.666667   11112.022222        NaN   \n",
      "\n",
      "                            PR(>F)  \n",
      "C(Dentist)            1.045384e-02  \n",
      "C(Method)             1.750208e-09  \n",
      "C(Dentist):C(Method)  1.969515e-03  \n",
      "Residual                       NaN  \n"
     ]
    }
   ],
   "source": [
    "\n",
    "formula = 'Response ~ C(Dentist) + C(Method) + C(Dentist) : C(Method)'\n",
    "model = ols(formula, dental_df).fit()\n",
    "aov_table = anova_lm(model)\n",
    "print(aov_table)"
   ]
  },
  {
   "cell_type": "markdown",
   "id": "7f2437d2",
   "metadata": {},
   "source": [
    "## ***** THE END  *****"
   ]
  },
  {
   "cell_type": "code",
   "execution_count": null,
   "id": "06a75b92",
   "metadata": {},
   "outputs": [],
   "source": []
  }
 ],
 "metadata": {
  "kernelspec": {
   "display_name": "Python 3 (ipykernel)",
   "language": "python",
   "name": "python3"
  },
  "language_info": {
   "codemirror_mode": {
    "name": "ipython",
    "version": 3
   },
   "file_extension": ".py",
   "mimetype": "text/x-python",
   "name": "python",
   "nbconvert_exporter": "python",
   "pygments_lexer": "ipython3",
   "version": "3.11.5"
  }
 },
 "nbformat": 4,
 "nbformat_minor": 5
}
